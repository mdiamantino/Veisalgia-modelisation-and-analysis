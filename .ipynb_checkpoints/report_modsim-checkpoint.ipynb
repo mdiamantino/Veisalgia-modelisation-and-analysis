{
 "cells": [
  {
   "cell_type": "markdown",
   "metadata": {},
   "source": [
    "**Authors:**\n",
    "- Mark Diamantino Caribé - BA3-INFO\n",
    "- Rawad Ghostin - BA3-INFO"
   ]
  },
  {
   "cell_type": "markdown",
   "metadata": {},
   "source": [
    "# Introduction \n",
    "\n",
    "Veisalgia, also commonly called “Hangover” is a medical condition for the disagreeable physical effects following excessive consumption of alcohol. Headache, drowsiness, fatigue, nausea are only some of the symptoms that could be caused. Given these points, it would be useful to study the average response that our body undertakes to counterbalance those physical effects and start a process of elimination of the alcohol.  \n",
    "Within this context, we will study two models that have been developed in order to analyze the dynamics of this process: \n",
    " - The model of Wagner \n",
    " - The model of Norberg "
   ]
  },
  {
   "cell_type": "markdown",
   "metadata": {},
   "source": [
    "# Wagner model\n",
    "\n",
    "The Wagner model has been developed by “JG Wagner” and “JA Patel” and published on “Research communications in chemical pathology and pharmacology”. \n",
    "The model of Wagner is defined as follows:\n",
    "\n",
    "\n",
    "$$\n",
    "V_d \\frac{dC(t)}{dt} = - \\frac{v_{max}C(t)}{k_m+C(t)}\n",
    "$$\n",
    "\n",
    "Where:\n",
    "$$\n",
    "V_d = r \\cdot W  \\\\\n",
    "$$\n",
    "And\n",
    "$$\n",
    "r=0.3161-0.004821W+0.004362H \\text{ for men} \\\\\n",
    "r=0.3122-0.006446W+0.004466H \\text{ for women} \\\\\n",
    "$$\n",
    "\n",
    "Where:\n",
    "- $C$ represents alcohol concentration in blood [$\\frac{mg}{L}$]\n",
    "- $v_{max}$ represents the maximial elimination rate of alcohol $95.0 \\pm 25.1$  [$\\frac{mg}{min}$]\n",
    "- $k_m$ is the constant Michaelis-Menten $27.0 \\pm 18.9$ [$\\frac{mg}{L}$].\n",
    "- $V_d$ represents the theoric volume of water in the human body in which alcohol is distributed.\n",
    "- $W$ represents the weight [$Kg$]\n",
    "- $H$ the height [$cm$]\n",
    "- $r$ Widmark factor\n",
    " \n",
    "\n",
    "The equation models the alcohol blood concentration with a differential of the first order.\n",
    "\n",
    "### Analysis\n",
    "The differential equation can be solved with octave using the *symbolic* package as follows:"
   ]
  },
  {
   "cell_type": "code",
   "execution_count": 1,
   "metadata": {},
   "outputs": [
    {
     "name": "stdout",
     "output_type": "stream",
     "text": [
      "Symbolic pkg v2.8.0: Python communication link active, SymPy v1.4.\n",
      "ode_sys = (sym)\n",
      "\n",
      "  d           -vmax⋅x(t)   \n",
      "  ──(x(t)) = ──────────────\n",
      "  dt         Vd⋅(km + x(t))\n",
      "\n",
      "solutions = (sym)\n",
      "\n",
      "                    ⎛      t⋅vmax⎞\n",
      "                    ⎜ C₁ - ──────⎟\n",
      "                    ⎜        Vd  ⎟\n",
      "                    ⎜ ───────────⎟\n",
      "                    ⎜      km    ⎟\n",
      "                    ⎜ℯ           ⎟\n",
      "  x(t) = km⋅lambertw⎜────────────⎟\n",
      "                    ⎝     km     ⎠\n",
      "\n"
     ]
    }
   ],
   "source": [
    "pkg load symbolic\n",
    "syms x(t) vmax km Vd;\n",
    "ode_sys = [diff(x(t),t) ==  -((vmax*x(t))/(km+x(t)))/Vd]\n",
    "solutions = dsolve(ode_sys);\n",
    "solutions\n"
   ]
  },
  {
   "cell_type": "markdown",
   "metadata": {},
   "source": [
    "### Evaluation\n",
    "\n",
    "We display the evolution of the alcohol concentration relatively to time, while varying the model parameters ($v_{max}$, $k_m$, $H$ and $W$).<br>\n",
    "\n",
    "**Structure:**\n",
    "\n",
    " - Dimension : $n=1$, $m=0$ inputs, $p=1$ outputs.\n",
    " - Constraints on input: none\n",
    " - time: discrete\n",
    " - state space: continuous\n",
    " - formalism: ODE\n",
    " - The time interval is discrete with $t \\in [0,10]$.\n",
    " \n",
    "The octave function to plot the graph is defined below:"
   ]
  },
  {
   "cell_type": "code",
   "execution_count": 2,
   "metadata": {},
   "outputs": [],
   "source": [
    "function wagner(delta_vmax, delta_km, sex, W, H, init_x, title_, annot)\n",
    "  # delta_vmax +- 25.1 \n",
    "  # delta_km +- 18.9\n",
    "  # init_x 0-1000\n",
    "  if (sex == 0) # men\n",
    "    r = 0.3161-0.00482*W+0.004632*H;\n",
    "  else # women\n",
    "    r = 0.3122-0.006446*W+0.004466*H;\n",
    "  endif\n",
    "  t = [0,10]\n",
    "  Vd = r*W;\n",
    "  vmax = 95.0 + delta_vmax;\n",
    "  km = 27.0 + delta_km;\n",
    "  \n",
    "  ode_sys = @(t,x)[ (-vmax*x(1))/(Vd*(km+x(1))) ];\n",
    "  [t,x] = ode45(ode_sys, t, [init_x]);\n",
    "  \n",
    "  plot(t,x,\"linewidth\",5);\n",
    "  text(10-0.2,x(length(x)), annot);\n",
    "  xlabel(\"time (min)\");\n",
    "  ylabel(\"Alcohol concentration (mg/L)\");\n",
    "  title(title_);\n",
    "endfunction"
   ]
  },
  {
   "cell_type": "markdown",
   "metadata": {},
   "source": [
    "We compute the variation of alcohol concentration with various parameters and initial conditions in order to make sense of their role.\n",
    "The weight and height values chosen are anchored around the average values of body-mass index.\n",
    "\n",
    "<img src=\"bmi-chart_men.gif\">\n",
    "\n",
    "\n",
    "The blood alcohol concentration are chosen according to the standard BAC chart:\n",
    "<img src=\"BAC.jpg\">"
   ]
  },
  {
   "cell_type": "code",
   "execution_count": 3,
   "metadata": {
    "scrolled": false
   },
   "outputs": [
    {
     "name": "stdout",
     "output_type": "stream",
     "text": [
      "t =\n",
      "\n",
      "    0   10\n",
      "\n",
      "t =\n",
      "\n",
      "    0   10\n",
      "\n",
      "t =\n",
      "\n",
      "    0   10\n",
      "\n"
     ]
    },
    {
     "data": {
      "image/png": "[encoded data removed]",
      "text/plain": [
       "<IPython.core.display.Image object>"
      ]
     },
     "metadata": {},
     "output_type": "display_data"
    }
   ],
   "source": [
    "# varying vmax\n",
    "# mildly alcoholic\n",
    "\n",
    "hold on;\n",
    "for delta = [-25.1,0,25.1]\n",
    "    wagner(\n",
    "      delta_vmax=delta,\n",
    "      delta_km=+18.9,\n",
    "      sex=0,\n",
    "      W=70,\n",
    "      H=176,\n",
    "      init_x=200,\n",
    "      title_=\"Fig1 : Variation of alcohol concentration for different vmax values\",\n",
    "      annot=num2str(delta)\n",
    "     )\n",
    "endfor\n",
    "hold off;"
   ]
  },
  {
   "cell_type": "markdown",
   "metadata": {},
   "source": [
    "As we can observe in Fig1, for men with the same size and $k_m$, with an inital alcohol concentration of $300 \\frac{mg}{L}$, the rate of concentration decrease is greater for a greater $v_{max}$.<br>\n",
    "Therefore, we suppose that the rate of concentration decrease is proportional to $v_{max}$."
   ]
  },
  {
   "cell_type": "code",
   "execution_count": 4,
   "metadata": {
    "scrolled": false
   },
   "outputs": [
    {
     "name": "stdout",
     "output_type": "stream",
     "text": [
      "t =\r\n",
      "\r\n",
      "    0   10\r\n",
      "\r\n",
      "t =\r\n",
      "\r\n",
      "    0   10\r\n",
      "\r\n",
      "t =\r\n",
      "\r\n",
      "    0   10\r\n",
      "\r\n"
     ]
    },
    {
     "data": {
      "image/png": "[encoded data removed]",
      "text/plain": [
       "<IPython.core.display.Image object>"
      ]
     },
     "metadata": {},
     "output_type": "display_data"
    }
   ],
   "source": [
    "# varying km\n",
    "# mildly alcoholic\n",
    "hold on;\n",
    "for delta = [-18.9,0,18.9]\n",
    "    wagner(\n",
    "      delta_vmax=0,\n",
    "      delta_km=delta,\n",
    "      sex=0,\n",
    "      W=70,\n",
    "      H=176,\n",
    "      init_x=300,\n",
    "      title_=\"Fig2 : Variation of alcohol concentration for different km values\",\n",
    "      annot=num2str(delta)\n",
    "     )\n",
    "endfor\n",
    "hold off;"
   ]
  },
  {
   "cell_type": "markdown",
   "metadata": {},
   "source": [
    "As we can observe in Fig2, for men with the same size and $v_{max}$, with an inital alcohol concentration of $300 \\frac{mg}{L}$, the rate of concentration decrease is greater for a lower $k_m$.<br>\n",
    "Therefore, we suppose that the rate of concentration decrease is invertly proportional to $v_{max}$."
   ]
  },
  {
   "cell_type": "code",
   "execution_count": 5,
   "metadata": {},
   "outputs": [
    {
     "name": "stdout",
     "output_type": "stream",
     "text": [
      "t =\n",
      "\n",
      "    0   10\n",
      "\n",
      "t =\n",
      "\n",
      "    0   10\n",
      "\n"
     ]
    },
    {
     "data": {
      "image/png": "[encoded data removed]",
      "text/plain": [
       "<IPython.core.display.Image object>"
      ]
     },
     "metadata": {},
     "output_type": "display_data"
    }
   ],
   "source": [
    "# varying sex\n",
    "# mildly alcoholic\n",
    "hold on;\n",
    "\n",
    "# standard man\n",
    "wagner(\n",
    "  delta_vmax=0,\n",
    "  delta_km=0,\n",
    "  sex=0,\n",
    "  W=70,\n",
    "  H=176,\n",
    "  init_x=300,\n",
    "  title_=\"Fig3 : Alcohol concentration for varying sexes with standard size\",\n",
    "  annot=\"male\"\n",
    " )\n",
    "\n",
    "# standard size woman\n",
    "wagner(\n",
    "  delta_vmax=0,\n",
    "  delta_km=0,\n",
    "  sex=1,\n",
    "  W=70,\n",
    "  H=176,\n",
    "  init_x=300,\n",
    "  title_=\"Fig3 : Variation of alcohol concentration for varying sexes with standard size\",\n",
    "  annot=\"female\"\n",
    " )\n",
    "hold off;"
   ]
  },
  {
   "cell_type": "markdown",
   "metadata": {},
   "source": [
    "As we can observe in Fig3, for 2 persons with the same size ,$k_m$ and $v_{max}$, the rate of concentration decrease is greater for the male person than the female person.<br>\n",
    "Therefore, we suppose that the rate of concentration decrease is greater for men than women.\n",
    "Additionally, we note that women have lower weight and height than men by the standards, which affects the rate of decrease as we will discuss in the following."
   ]
  },
  {
   "cell_type": "code",
   "execution_count": 6,
   "metadata": {},
   "outputs": [
    {
     "name": "stdout",
     "output_type": "stream",
     "text": [
      "t =\n",
      "\n",
      "    0   10\n",
      "\n",
      "t =\n",
      "\n",
      "    0   10\n",
      "\n",
      "t =\n",
      "\n",
      "    0   10\n",
      "\n",
      "t =\n",
      "\n",
      "    0   10\n",
      "\n",
      "t =\n",
      "\n",
      "    0   10\n",
      "\n"
     ]
    },
    {
     "data": {
      "image/png": "[encoded data removed]",
      "text/plain": [
       "<IPython.core.display.Image object>"
      ]
     },
     "metadata": {},
     "output_type": "display_data"
    }
   ],
   "source": [
    "# varying weight - men\n",
    "# mildly alcoholic\n",
    "hold on;\n",
    "for w = [50,70,90,110, 130]\n",
    "    wagner(\n",
    "      delta_vmax=0,\n",
    "      delta_km=0,\n",
    "      sex=0,\n",
    "      W=w,\n",
    "      H=176,\n",
    "      init_x=300,\n",
    "      title_=\"Fig4 : Variation of alcohol concentration for different weight\",\n",
    "      annot=num2str(w)\n",
    "     )\n",
    "endfor\n",
    "hold off;"
   ]
  },
  {
   "cell_type": "markdown",
   "metadata": {},
   "source": [
    "As we can observe in Fig4, for men with the same height, $v_{max}$ and $k_m$, with an inital alcohol concentration of $300 \\frac{mg}{L}$, the rate of concentration decrease is greater for a lower weight.\n",
    "However, we see that the rate is nearly the same for men of weight $110$ and $130 Kg$.\n",
    "Therefore, we suppose that the rate of concentration decrease is greater for a lower weight up to a certain upper bound."
   ]
  },
  {
   "cell_type": "code",
   "execution_count": 7,
   "metadata": {
    "scrolled": false
   },
   "outputs": [
    {
     "name": "stdout",
     "output_type": "stream",
     "text": [
      "t =\n",
      "\n",
      "    0   10\n",
      "\n",
      "t =\n",
      "\n",
      "    0   10\n",
      "\n",
      "t =\n",
      "\n",
      "    0   10\n",
      "\n",
      "t =\n",
      "\n",
      "    0   10\n",
      "\n",
      "t =\n",
      "\n",
      "    0   10\n",
      "\n",
      "t =\n",
      "\n",
      "    0   10\n",
      "\n",
      "t =\n",
      "\n",
      "    0   10\n",
      "\n"
     ]
    },
    {
     "data": {
      "image/png": "[encoded data removed]",
      "text/plain": [
       "<IPython.core.display.Image object>"
      ]
     },
     "metadata": {},
     "output_type": "display_data"
    }
   ],
   "source": [
    "# varying initial alcohol concentration - men\n",
    "hold on;\n",
    "for c = [0:200:1200]\n",
    "    wagner(\n",
    "      delta_vmax=0,\n",
    "      delta_km=0,\n",
    "      sex=0,\n",
    "      W=70,\n",
    "      H=176,\n",
    "      init_x=c,\n",
    "      title_=\"Fig5 : Variation of alcohol concentration for different inital concentration\",\n",
    "      annot=num2str(c)\n",
    "     )\n",
    "endfor\n",
    "hold off;"
   ]
  },
  {
   "cell_type": "markdown",
   "metadata": {},
   "source": [
    "As we can observe in Fig5, for men with the same size, $v_{max}$ and $k_m$,, the rate of concentration decrease is identical for every inital alcohol concentration.<br>\n",
    "Therefore, we suppose that the rate of concentration is independent of the initial alcohol concentration."
   ]
  },
  {
   "cell_type": "markdown",
   "metadata": {},
   "source": [
    "# Norberg model\n",
    "\n",
    "The Norberg model has been developed by Ake Norberg in 2002. \n",
    "Unlike the Wagner model, this models takes in consideration multipe alcohol compartment in the body, thus might be more accurate.\n",
    "\n",
    "## Norberg simplified model\n",
    "\n",
    "A simplified version of the Norberg exists. We will be studying both versions in order to be able to compare them.\n",
    "\n",
    "The Simplified model of Nordberg is defined as follows:\n",
    "\\begin{cases}\n",
    "    V_{c1} \\frac{dC_1(t)}{dt} = (-L_d-L_u) \\cdot C_1(t)+L_d \\cdot C_2(t)\\\\\n",
    "    V_{c2} \\frac{dC_2(t)}{dt} = L_d \\cdot C_1(t)-L_d \\cdot C_2(t)\\\\\n",
    "\\end{cases} \n",
    "\n",
    "Where:\n",
    " - $V_{C1} = 14.5 \\pm 4.3$: Volume of the central compartment\n",
    " - $V_{C2} = 21.2 \\pm 4.4$: Volume of the peripheral compartment\n",
    " - $C_1$: Concentration in the central compartment $[l]$ (plasma and tissues that are in rapid equilibrium, where the alchol clearance starts).\n",
    " - $C_2$: Concentration in the peripheral compartment $[l]$ (the rest of the body fluids in other tissues)\n",
    " - $L_u = 3.65 \\pm 2.04$: Elimination constant [$\\frac{mg}{L}$]\n",
    " - $L_d = 809 \\pm 232 $: Parameter of districution between compartments [$\\frac{mg}{L}$]\n",
    "\n",
    "The equation models the alcohol blood concentration with a differential of the second order.\n",
    "\n",
    "### Analysis\n",
    "The differential equation can be solved with octave using the *symbolic* package as follows:"
   ]
  },
  {
   "cell_type": "code",
   "execution_count": 8,
   "metadata": {},
   "outputs": [
    {
     "name": "stdout",
     "output_type": "stream",
     "text": [
      "warning: passing floating-point values to sym is dangerous, see \"help sym\"\n",
      "warning: called from\n",
      "    double_to_sym_heuristic at line 50 column 7\n",
      "    sym at line 379 column 13\n",
      "    mtimes at line 65 column 5\n",
      "warning: passing floating-point values to sym is dangerous, see \"help sym\"\n",
      "warning: called from\n",
      "    double_to_sym_heuristic at line 50 column 7\n",
      "    sym at line 379 column 13\n",
      "    mrdivide at line 81 column 5\n",
      "warning: passing floating-point values to sym is dangerous, see \"help sym\"\n",
      "warning: called from\n",
      "    double_to_sym_heuristic at line 50 column 7\n",
      "    sym at line 379 column 13\n",
      "    mrdivide at line 81 column 5\n",
      "warning: passing floating-point values to sym is dangerous, see \"help sym\"\n",
      "warning: called from\n",
      "    double_to_sym_heuristic at line 50 column 7\n",
      "    sym at line 379 column 13\n",
      "    mrdivide at line 81 column 5\n",
      "warning: passing floating-point values to sym is dangerous, see \"help sym\"\n",
      "warning: called from\n",
      "    double_to_sym_heuristic at line 50 column 7\n",
      "    sym at line 379 column 13\n",
      "    mrdivide at line 81 column 5\n",
      "ode_sys = (sym 2×1 matrix)\n",
      "\n",
      "  ⎡d             16253⋅x₁(t)   1618⋅x₂(t)⎤\n",
      "  ⎢──(x₁(t)) = - ─────────── + ──────────⎥\n",
      "  ⎢dt                290           29    ⎥\n",
      "  ⎢                                      ⎥\n",
      "  ⎢ d           4045⋅x₁(t)   4045⋅x₂(t)  ⎥\n",
      "  ⎢ ──(x₂(t)) = ────────── - ──────────  ⎥\n",
      "  ⎣ dt             106          106      ⎦\n",
      "\n",
      "solutions = \n",
      "{\n",
      "(sym)\n",
      "\n",
      "                     ⎛  723967   √130464737966⎞              ⎛  723967   √130464\n",
      "                   t⋅⎜- ────── + ─────────────⎟            t⋅⎜- ────── - ───────\n",
      "                     ⎝  15370         7685    ⎠              ⎝  15370         76\n",
      "          1618⋅C₁⋅ℯ                               1618⋅C₂⋅ℯ                     \n",
      "  x₁(t) = ───────────────────────────────────── + ──────────────────────────────\n",
      "                            29                                      29          \n",
      "  \n",
      "  737966⎞\n",
      "  ──────⎟\n",
      "  85    ⎠\n",
      "         \n",
      "  ───────\n",
      "         \n",
      "\n",
      "(sym)\n",
      "\n",
      "                                        ⎛  723967   √130464737966⎞              \n",
      "                                      t⋅⎜- ────── + ─────────────⎟              \n",
      "             ⎛68721   √130464737966⎞    ⎝  15370         7685    ⎠      ⎛68721  \n",
      "  x₂(t) = C₁⋅⎜───── + ─────────────⎟⋅ℯ                             + C₂⋅⎜───── -\n",
      "             ⎝ 7685        7685    ⎠                                    ⎝ 7685  \n",
      "  \n",
      "                     ⎛  723967   √130464737966⎞\n",
      "                   t⋅⎜- ────── - ─────────────⎟\n",
      "   √130464737966⎞    ⎝  15370         7685    ⎠\n",
      "   ─────────────⎟⋅ℯ                            \n",
      "        7685    ⎠                              \n",
      "\n",
      "}\n"
     ]
    }
   ],
   "source": [
    "pkg load symbolic\n",
    "Ld=809;\n",
    "Lu=3.65;\n",
    "Vc1=14.5;\n",
    "Vc2=21.2;\n",
    "\n",
    "syms x1(t) x2(t); # Ld Lu Vc1 Vc2;\n",
    "ode_sys = [diff(x1(t),t) == (-Ld-Lu)*x1(t)/Vc1 + Ld*x2(t)/Vc1;  diff(x2(t),t) == Ld*x1(t)/Vc2 - Ld*x2(t)/Vc2]\n",
    "solutions = dsolve(ode_sys);\n",
    "solutions"
   ]
  },
  {
   "cell_type": "markdown",
   "metadata": {},
   "source": [
    "The system can be encoded with a matrix as well:\n",
    "\n",
    "$$\n",
    "A=\n",
    "\\begin{bmatrix}\n",
    "\\frac{-L_d-L_u}{V_{C1}} & \\frac{L_d}{V_{C1}} \\\\\n",
    "\\frac{L_d}{V_{C2}} & \\frac{-L_d}{V_{C2}}\n",
    "\\end{bmatrix}\n",
    "$$\n",
    "\n",
    "We can compute the eigenvalues and eigenvectors using octave as follow:"
   ]
  },
  {
   "cell_type": "code",
   "execution_count": 9,
   "metadata": {},
   "outputs": [
    {
     "name": "stdout",
     "output_type": "stream",
     "text": [
      "  -56.045   55.793\n",
      "   38.160  -38.160\n",
      "tr = -94.205\n",
      "d =  9.6059\n",
      "Diagonal Matrix\n",
      "\n",
      "  -94.10313          0\n",
      "          0   -0.10208\n"
     ]
    }
   ],
   "source": [
    "A = [(-Ld-Lu)/Vc1, Ld/Vc1; Ld/Vc2, -Ld/Vc2];\n",
    "disp(A);\n",
    "[V, L] = eig(A);\n",
    "tr = trace(A)\n",
    "d = det(A)\n",
    "disp(L)"
   ]
  },
  {
   "cell_type": "markdown",
   "metadata": {},
   "source": [
    "As we can observer we have 2 eigenvalues $\\lambda_1=-94.1$ and $\\lambda_2=-0.102$.\n",
    "We have that:\n",
    " - $\\lambda_{1,2} \\in R $\n",
    " -  $\\lambda_{1,2} < 0$\n",
    " \n",
    " \n",
    "Therefore, we deduce that the there is a **stable node** in the system.<br>\n",
    "Additionally, $\\lambda_1 \\cdot \\lambda_2 \\neq 0$, thus, the system is **simple**.\n",
    "Notably, we have $tr(A)=-94.2<0$ and $det(A)=9.6>0$, hence, we have a **degenerated** stable node."
   ]
  },
  {
   "cell_type": "markdown",
   "metadata": {},
   "source": [
    "#### Eigen vectors\n",
    "We will now find eigen vectors and their trajectory."
   ]
  },
  {
   "cell_type": "code",
   "execution_count": 10,
   "metadata": {},
   "outputs": [
    {
     "data": {
      "image/png": "[encoded data removed]",
      "text/plain": [
       "<IPython.core.display.Image object>"
      ]
     },
     "metadata": {},
     "output_type": "display_data"
    }
   ],
   "source": [
    "function [eigenline_1,eigenline_2,V] = get_eigenlines(A,line_range)\n",
    "    [V,L] = eig(A);\n",
    "    eigenline_1 = (V(2,1)/V(1,1)) * line_range;\n",
    "    eigenline_2 = (V(2,2)/V(1,2)) * line_range;\n",
    "endfunction\n",
    "\n",
    "function [line_range,eigenline_1,eigenline_2] = plot_eigenlines(A)\n",
    "    line_range = -1.5:.1:1.5;\n",
    "    [eigenline_1,eigenline_2,V] = get_eigenlines(A,line_range);\n",
    "    hold on;\n",
    "    plot(line_range,eigenline_1,\"linewidth\",10);\n",
    "    plot(line_range,eigenline_2,\"linewidth\",10);\n",
    "    quiver([0;0],[0;0],V(1,:),V(2,:),1.5,\"linewidth\",10,\"color\",\"k\");\n",
    "    legend(\"v_1\",\"v_2\",\"location\",\"south\");\n",
    "endfunction\n",
    "\n",
    "[line_range,eigenline_1,eigenline_2] = plot_eigenlines(A);"
   ]
  },
  {
   "cell_type": "markdown",
   "metadata": {},
   "source": [
    "#### Isoclines"
   ]
  },
  {
   "cell_type": "code",
   "execution_count": 11,
   "metadata": {},
   "outputs": [
    {
     "data": {
      "image/png": "[encoded data removed]",
      "text/plain": [
       "<IPython.core.display.Image object>"
      ]
     },
     "metadata": {},
     "output_type": "display_data"
    }
   ],
   "source": [
    "function [isocline_1,isocline_2] = get_isoclines(A,line_range)\n",
    "    isocline_1 = -(A(1,1)/A(1,2)) * line_range;\n",
    "    isocline_2 = -(A(2,1)/A(2,2)) * line_range;\n",
    "endfunction\n",
    "\n",
    "function [line_range,isocline_1,isocline_2] = plot_isoclines(A)\n",
    "    line_range = -1.5:.1:1.5;\n",
    "    [isocline_1,isocline_2] = get_isoclines(A,line_range);\n",
    "    hold on;\n",
    "    plot(line_range,isocline_1,\"linewidth\",5);\n",
    "    plot(line_range,isocline_2,\"linewidth\",5);\n",
    "    legend(\"isocline_1\",\"isocline_2\",\"location\",\"south\");\n",
    "endfunction\n",
    "\n",
    "[line_range,isocline_1,isocline_2] = plot_isoclines(A);"
   ]
  },
  {
   "cell_type": "markdown",
   "metadata": {},
   "source": [
    "#### Phase portrait"
   ]
  },
  {
   "cell_type": "code",
   "execution_count": 12,
   "metadata": {},
   "outputs": [
    {
     "data": {
      "image/png": "[encoded data removed]",
      "text/plain": [
       "<IPython.core.display.Image object>"
      ]
     },
     "metadata": {},
     "output_type": "display_data"
    }
   ],
   "source": [
    "function [x1,x2,x1p,x2p] = plot_portrait_phase(A)\n",
    "    #grid for plotting\n",
    "    x1range=-1.5:.1:1.5;\n",
    "    x2range=-1.5:.1:1.5;\n",
    "    [x1,x2] = meshgrid(x1range, x2range);\n",
    "\n",
    "    # Define the system to plot (based on matrix A)\n",
    "    x1p = A(1,1)*x1+A(1,2)*x2;\n",
    "    x2p = A(2,1)*x1+A(2,2)*x2;\n",
    "\n",
    "    #Normalize values for plotting\n",
    "    norms=sqrt(x1p.^2+x2p.^2);\n",
    "    # Vector field plot\n",
    "    hold on;\n",
    "    quiver(x1,x2,x1p./norms,x2p./norms,0.5);\n",
    "endfunction\n",
    "[x1,x2,x1p,x2p] = plot_portrait_phase(A);"
   ]
  },
  {
   "cell_type": "markdown",
   "metadata": {},
   "source": [
    "#### Phase portrait complete"
   ]
  },
  {
   "cell_type": "code",
   "execution_count": 13,
   "metadata": {
    "scrolled": false
   },
   "outputs": [
    {
     "name": "stdout",
     "output_type": "stream",
     "text": [
      "ans =\r\n",
      "\r\n",
      " Columns 1 through 8:\r\n",
      "\r\n",
      "  -1.50000  -1.40000  -1.30000  -1.20000  -1.10000  -1.00000  -0.90000  -0.80000\r\n",
      "  -1.50000  -1.40000  -1.30000  -1.20000  -1.10000  -1.00000  -0.90000  -0.80000\r\n",
      "  -1.50000  -1.40000  -1.30000  -1.20000  -1.10000  -1.00000  -0.90000  -0.80000\r\n",
      "  -1.50000  -1.40000  -1.30000  -1.20000  -1.10000  -1.00000  -0.90000  -0.80000\r\n",
      "  -1.50000  -1.40000  -1.30000  -1.20000  -1.10000  -1.00000  -0.90000  -0.80000\r\n",
      "  -1.50000  -1.40000  -1.30000  -1.20000  -1.10000  -1.00000  -0.90000  -0.80000\r\n",
      "  -1.50000  -1.40000  -1.30000  -1.20000  -1.10000  -1.00000  -0.90000  -0.80000\r\n",
      "  -1.50000  -1.40000  -1.30000  -1.20000  -1.10000  -1.00000  -0.90000  -0.80000\r\n",
      "  -1.50000  -1.40000  -1.30000  -1.20000  -1.10000  -1.00000  -0.90000  -0.80000\r\n",
      "  -1.50000  -1.40000  -1.30000  -1.20000  -1.10000  -1.00000  -0.90000  -0.80000\r\n",
      "  -1.50000  -1.40000  -1.30000  -1.20000  -1.10000  -1.00000  -0.90000  -0.80000\r\n",
      "  -1.50000  -1.40000  -1.30000  -1.20000  -1.10000  -1.00000  -0.90000  -0.80000\r\n",
      "  -1.50000  -1.40000  -1.30000  -1.20000  -1.10000  -1.00000  -0.90000  -0.80000\r\n",
      "  -1.50000  -1.40000  -1.30000  -1.20000  -1.10000  -1.00000  -0.90000  -0.80000\r\n",
      "  -1.50000  -1.40000  -1.30000  -1.20000  -1.10000  -1.00000  -0.90000  -0.80000\r\n",
      "  -1.50000  -1.40000  -1.30000  -1.20000  -1.10000  -1.00000  -0.90000  -0.80000\r\n",
      "  -1.50000  -1.40000  -1.30000  -1.20000  -1.10000  -1.00000  -0.90000  -0.80000\r\n",
      "  -1.50000  -1.40000  -1.30000  -1.20000  -1.10000  -1.00000  -0.90000  -0.80000\r\n",
      "  -1.50000  -1.40000  -1.30000  -1.20000  -1.10000  -1.00000  -0.90000  -0.80000\r\n",
      "  -1.50000  -1.40000  -1.30000  -1.20000  -1.10000  -1.00000  -0.90000  -0.80000\r\n",
      "  -1.50000  -1.40000  -1.30000  -1.20000  -1.10000  -1.00000  -0.90000  -0.80000\r\n",
      "  -1.50000  -1.40000  -1.30000  -1.20000  -1.10000  -1.00000  -0.90000  -0.80000\r\n",
      "  -1.50000  -1.40000  -1.30000  -1.20000  -1.10000  -1.00000  -0.90000  -0.80000\r\n",
      "  -1.50000  -1.40000  -1.30000  -1.20000  -1.10000  -1.00000  -0.90000  -0.80000\r\n",
      "  -1.50000  -1.40000  -1.30000  -1.20000  -1.10000  -1.00000  -0.90000  -0.80000\r\n",
      "  -1.50000  -1.40000  -1.30000  -1.20000  -1.10000  -1.00000  -0.90000  -0.80000\r\n",
      "  -1.50000  -1.40000  -1.30000  -1.20000  -1.10000  -1.00000  -0.90000  -0.80000\r\n",
      "  -1.50000  -1.40000  -1.30000  -1.20000  -1.10000  -1.00000  -0.90000  -0.80000\r\n",
      "  -1.50000  -1.40000  -1.30000  -1.20000  -1.10000  -1.00000  -0.90000  -0.80000\r\n",
      "  -1.50000  -1.40000  -1.30000  -1.20000  -1.10000  -1.00000  -0.90000  -0.80000\r\n",
      "  -1.50000  -1.40000  -1.30000  -1.20000  -1.10000  -1.00000  -0.90000  -0.80000\r\n",
      "\r\n",
      " Columns 9 through 16:\r\n",
      "\r\n",
      "  -0.70000  -0.60000  -0.50000  -0.40000  -0.30000  -0.20000  -0.10000   0.00000\r\n",
      "  -0.70000  -0.60000  -0.50000  -0.40000  -0.30000  -0.20000  -0.10000   0.00000\r\n",
      "  -0.70000  -0.60000  -0.50000  -0.40000  -0.30000  -0.20000  -0.10000   0.00000\r\n",
      "  -0.70000  -0.60000  -0.50000  -0.40000  -0.30000  -0.20000  -0.10000   0.00000\r\n",
      "  -0.70000  -0.60000  -0.50000  -0.40000  -0.30000  -0.20000  -0.10000   0.00000\r\n",
      "  -0.70000  -0.60000  -0.50000  -0.40000  -0.30000  -0.20000  -0.10000   0.00000\r\n",
      "  -0.70000  -0.60000  -0.50000  -0.40000  -0.30000  -0.20000  -0.10000   0.00000\r\n",
      "  -0.70000  -0.60000  -0.50000  -0.40000  -0.30000  -0.20000  -0.10000   0.00000\r\n",
      "  -0.70000  -0.60000  -0.50000  -0.40000  -0.30000  -0.20000  -0.10000   0.00000\r\n",
      "  -0.70000  -0.60000  -0.50000  -0.40000  -0.30000  -0.20000  -0.10000   0.00000\r\n",
      "  -0.70000  -0.60000  -0.50000  -0.40000  -0.30000  -0.20000  -0.10000   0.00000\r\n",
      "  -0.70000  -0.60000  -0.50000  -0.40000  -0.30000  -0.20000  -0.10000   0.00000\r\n",
      "  -0.70000  -0.60000  -0.50000  -0.40000  -0.30000  -0.20000  -0.10000   0.00000\r\n",
      "  -0.70000  -0.60000  -0.50000  -0.40000  -0.30000  -0.20000  -0.10000   0.00000\r\n",
      "  -0.70000  -0.60000  -0.50000  -0.40000  -0.30000  -0.20000  -0.10000   0.00000\r\n",
      "  -0.70000  -0.60000  -0.50000  -0.40000  -0.30000  -0.20000  -0.10000   0.00000\r\n",
      "  -0.70000  -0.60000  -0.50000  -0.40000  -0.30000  -0.20000  -0.10000   0.00000\r\n",
      "  -0.70000  -0.60000  -0.50000  -0.40000  -0.30000  -0.20000  -0.10000   0.00000\r\n",
      "  -0.70000  -0.60000  -0.50000  -0.40000  -0.30000  -0.20000  -0.10000   0.00000\r\n",
      "  -0.70000  -0.60000  -0.50000  -0.40000  -0.30000  -0.20000  -0.10000   0.00000\r\n",
      "  -0.70000  -0.60000  -0.50000  -0.40000  -0.30000  -0.20000  -0.10000   0.00000\r\n",
      "  -0.70000  -0.60000  -0.50000  -0.40000  -0.30000  -0.20000  -0.10000   0.00000\r\n",
      "  -0.70000  -0.60000  -0.50000  -0.40000  -0.30000  -0.20000  -0.10000   0.00000\r\n",
      "  -0.70000  -0.60000  -0.50000  -0.40000  -0.30000  -0.20000  -0.10000   0.00000\r\n",
      "  -0.70000  -0.60000  -0.50000  -0.40000  -0.30000  -0.20000  -0.10000   0.00000\r\n",
      "  -0.70000  -0.60000  -0.50000  -0.40000  -0.30000  -0.20000  -0.10000   0.00000\r\n",
      "  -0.70000  -0.60000  -0.50000  -0.40000  -0.30000  -0.20000  -0.10000   0.00000\r\n",
      "  -0.70000  -0.60000  -0.50000  -0.40000  -0.30000  -0.20000  -0.10000   0.00000\r\n",
      "  -0.70000  -0.60000  -0.50000  -0.40000  -0.30000  -0.20000  -0.10000   0.00000\r\n",
      "  -0.70000  -0.60000  -0.50000  -0.40000  -0.30000  -0.20000  -0.10000   0.00000\r\n",
      "  -0.70000  -0.60000  -0.50000  -0.40000  -0.30000  -0.20000  -0.10000   0.00000\r\n",
      "\r\n",
      " Columns 17 through 24:\r\n",
      "\r\n",
      "   0.10000   0.20000   0.30000   0.40000   0.50000   0.60000   0.70000   0.80000\r\n",
      "   0.10000   0.20000   0.30000   0.40000   0.50000   0.60000   0.70000   0.80000\r\n",
      "   0.10000   0.20000   0.30000   0.40000   0.50000   0.60000   0.70000   0.80000\r\n",
      "   0.10000   0.20000   0.30000   0.40000   0.50000   0.60000   0.70000   0.80000\r\n",
      "   0.10000   0.20000   0.30000   0.40000   0.50000   0.60000   0.70000   0.80000\r\n",
      "   0.10000   0.20000   0.30000   0.40000   0.50000   0.60000   0.70000   0.80000\r\n",
      "   0.10000   0.20000   0.30000   0.40000   0.50000   0.60000   0.70000   0.80000\r\n",
      "   0.10000   0.20000   0.30000   0.40000   0.50000   0.60000   0.70000   0.80000\r\n",
      "   0.10000   0.20000   0.30000   0.40000   0.50000   0.60000   0.70000   0.80000\r\n",
      "   0.10000   0.20000   0.30000   0.40000   0.50000   0.60000   0.70000   0.80000\r\n",
      "   0.10000   0.20000   0.30000   0.40000   0.50000   0.60000   0.70000   0.80000\r\n",
      "   0.10000   0.20000   0.30000   0.40000   0.50000   0.60000   0.70000   0.80000\r\n",
      "   0.10000   0.20000   0.30000   0.40000   0.50000   0.60000   0.70000   0.80000\r\n",
      "   0.10000   0.20000   0.30000   0.40000   0.50000   0.60000   0.70000   0.80000\r\n",
      "   0.10000   0.20000   0.30000   0.40000   0.50000   0.60000   0.70000   0.80000\r\n",
      "   0.10000   0.20000   0.30000   0.40000   0.50000   0.60000   0.70000   0.80000\r\n",
      "   0.10000   0.20000   0.30000   0.40000   0.50000   0.60000   0.70000   0.80000\r\n",
      "   0.10000   0.20000   0.30000   0.40000   0.50000   0.60000   0.70000   0.80000\r\n",
      "   0.10000   0.20000   0.30000   0.40000   0.50000   0.60000   0.70000   0.80000\r\n",
      "   0.10000   0.20000   0.30000   0.40000   0.50000   0.60000   0.70000   0.80000\r\n",
      "   0.10000   0.20000   0.30000   0.40000   0.50000   0.60000   0.70000   0.80000\r\n",
      "   0.10000   0.20000   0.30000   0.40000   0.50000   0.60000   0.70000   0.80000\r\n",
      "   0.10000   0.20000   0.30000   0.40000   0.50000   0.60000   0.70000   0.80000\r\n",
      "   0.10000   0.20000   0.30000   0.40000   0.50000   0.60000   0.70000   0.80000\r\n",
      "   0.10000   0.20000   0.30000   0.40000   0.50000   0.60000   0.70000   0.80000\r\n",
      "   0.10000   0.20000   0.30000   0.40000   0.50000   0.60000   0.70000   0.80000\r\n",
      "   0.10000   0.20000   0.30000   0.40000   0.50000   0.60000   0.70000   0.80000\r\n",
      "   0.10000   0.20000   0.30000   0.40000   0.50000   0.60000   0.70000   0.80000\r\n",
      "   0.10000   0.20000   0.30000   0.40000   0.50000   0.60000   0.70000   0.80000\r\n",
      "   0.10000   0.20000   0.30000   0.40000   0.50000   0.60000   0.70000   0.80000\r\n",
      "   0.10000   0.20000   0.30000   0.40000   0.50000   0.60000   0.70000   0.80000\r\n",
      "\r\n",
      " Columns 25 through 31:\r\n",
      "\r\n",
      "   0.90000   1.00000   1.10000   1.20000   1.30000   1.40000   1.50000\r\n",
      "   0.90000   1.00000   1.10000   1.20000   1.30000   1.40000   1.50000\r\n",
      "   0.90000   1.00000   1.10000   1.20000   1.30000   1.40000   1.50000\r\n",
      "   0.90000   1.00000   1.10000   1.20000   1.30000   1.40000   1.50000\r\n",
      "   0.90000   1.00000   1.10000   1.20000   1.30000   1.40000   1.50000\r\n",
      "   0.90000   1.00000   1.10000   1.20000   1.30000   1.40000   1.50000\r\n",
      "   0.90000   1.00000   1.10000   1.20000   1.30000   1.40000   1.50000\r\n",
      "   0.90000   1.00000   1.10000   1.20000   1.30000   1.40000   1.50000\r\n",
      "   0.90000   1.00000   1.10000   1.20000   1.30000   1.40000   1.50000\r\n",
      "   0.90000   1.00000   1.10000   1.20000   1.30000   1.40000   1.50000\r\n",
      "   0.90000   1.00000   1.10000   1.20000   1.30000   1.40000   1.50000\r\n",
      "   0.90000   1.00000   1.10000   1.20000   1.30000   1.40000   1.50000\r\n",
      "   0.90000   1.00000   1.10000   1.20000   1.30000   1.40000   1.50000\r\n",
      "   0.90000   1.00000   1.10000   1.20000   1.30000   1.40000   1.50000\r\n",
      "   0.90000   1.00000   1.10000   1.20000   1.30000   1.40000   1.50000\r\n",
      "   0.90000   1.00000   1.10000   1.20000   1.30000   1.40000   1.50000\r\n",
      "   0.90000   1.00000   1.10000   1.20000   1.30000   1.40000   1.50000\r\n",
      "   0.90000   1.00000   1.10000   1.20000   1.30000   1.40000   1.50000\r\n",
      "   0.90000   1.00000   1.10000   1.20000   1.30000   1.40000   1.50000\r\n",
      "   0.90000   1.00000   1.10000   1.20000   1.30000   1.40000   1.50000\r\n",
      "   0.90000   1.00000   1.10000   1.20000   1.30000   1.40000   1.50000\r\n",
      "   0.90000   1.00000   1.10000   1.20000   1.30000   1.40000   1.50000\r\n",
      "   0.90000   1.00000   1.10000   1.20000   1.30000   1.40000   1.50000\r\n",
      "   0.90000   1.00000   1.10000   1.20000   1.30000   1.40000   1.50000\r\n",
      "   0.90000   1.00000   1.10000   1.20000   1.30000   1.40000   1.50000\r\n",
      "   0.90000   1.00000   1.10000   1.20000   1.30000   1.40000   1.50000\r\n",
      "   0.90000   1.00000   1.10000   1.20000   1.30000   1.40000   1.50000\r\n",
      "   0.90000   1.00000   1.10000   1.20000   1.30000   1.40000   1.50000\r\n",
      "   0.90000   1.00000   1.10000   1.20000   1.30000   1.40000   1.50000\r\n",
      "   0.90000   1.00000   1.10000   1.20000   1.30000   1.40000   1.50000\r\n",
      "   0.90000   1.00000   1.10000   1.20000   1.30000   1.40000   1.50000\r\n",
      "\r\n"
     ]
    },
    {
     "data": {
      "image/png": "[encoded data removed]",
      "text/plain": [
       "<IPython.core.display.Image object>"
      ]
     },
     "metadata": {},
     "output_type": "display_data"
    }
   ],
   "source": [
    "function [x1,x2,x1p,x2p] = plot_portrait_phase_complete(A)\n",
    "    #grid for plotting\n",
    "    x1range=-1.5:.1:1.5;\n",
    "    x2range=-1.5:.1:1.5;\n",
    "    [x1,x2] = meshgrid(x1range, x2range);\n",
    "\n",
    "    # Define the system to plot (based on matrix A)\n",
    "    x1p = A(1,1)*x1+A(1,2)*x2;\n",
    "    x2p = A(2,1)*x1+A(2,2)*x2;\n",
    "\n",
    "    #Normalize values for plotting\n",
    "    norms=sqrt(x1p.^2+x2p.^2);\n",
    "    \n",
    "    [eigenline_1,eigenline_2,V] = get_eigenlines(A,x1range);\n",
    "    [isocline_1,isocline_2] = get_isoclines(A,x1range);\n",
    "    \n",
    "    # Vector field plot\n",
    "    hold on;\n",
    "    quiver(x1,x2,x1p./norms,x2p./norms,0.5);\n",
    "    # Isoclines\n",
    "    plot(x1range,isocline_1,\"linewidth\",5);\n",
    "    plot(x1range,isocline_2,\"linewidth\",5);\n",
    "    # Vecteurs propres\n",
    "    plot(x1range,eigenline_1,\"linewidth\",5);\n",
    "    plot(x1range,eigenline_2,\"linewidth\",5);\n",
    "        quiver([0;0],[0;0],V(1,:),V(2,:),1.5,\"linewidth\",10,\"color\",\"k\");\n",
    "    legend(\"v_1\",\"v_2\",\"location\",\"south\");\n",
    "    legend(\"field\",\"v_1\",\"v_2\",\"isocline_1\",\"isocline_2\",\"location\",\"south\",\"orientation\", \"horizontal\");\n",
    "endfunction\n",
    "\n",
    "plot_portrait_phase_complete(A)"
   ]
  },
  {
   "cell_type": "markdown",
   "metadata": {},
   "source": [
    "### Evaluation\n",
    "As we have previously done wioth the Wagner model, we can now display the evolution of the alcohol concentration relatively to time, while varying the parameters $V_{C_1}$, $V_{C_2}$, $L_d$, $L_u$.<br>\n",
    "\n",
    "**Structure:**\n",
    "\n",
    " - Dimension : $n=2$, $m=0$ inputs, $p=1$ outputs.\n",
    " - Constraints on input: none\n",
    " - Time: continuous\n",
    " - State space: continuous\n",
    " - Formalism: ODE\n",
    " - The time interval is discrete with $t \\in [0,10]$.\n",
    " \n",
    "The octave function to plot the graph is defined below:"
   ]
  },
  {
   "cell_type": "code",
   "execution_count": 14,
   "metadata": {},
   "outputs": [],
   "source": [
    "function norberg_simple(x1_0, x2_0, delta_Vc1, delta_Vc2, delta_Ld, delta_Lu, title_, annot)\n",
    "  # delta_Vc1 +- 4.3\n",
    "  # delta_Vc2 +- 4.4\n",
    "  # delta_Ld +- 232\n",
    "  # delta Lu +- +-2.04\n",
    "  Vc1 = 14.5 + delta_Vc1\n",
    "  Vc2 = 21.2 + delta_Vc2\n",
    "  Ld = 809 + delta_Ld\n",
    "  Lu = 3.65 + delta_Lu\n",
    "  \n",
    "  A = [(-Ld-Lu)/Vc1, Ld/Vc1; Ld/Vc2, -Ld/Vc2];\n",
    "  #[x1,x2,x1p,x2p] = plot_portrait_phase(A)\n",
    "  ode_sys = @(t,x) [((-Ld-Lu)*x(1)+Ld*x(2))/Vc1; (Ld*x(1)+(-Ld)*x(2))/Vc2];\n",
    "  [t,x] = ode23(ode_sys, [0,10], [x1_0,x2_0]);\n",
    "  plot(t,x,\"linewidth\",5);\n",
    "  text(10-0.2,x(length(x)), annot);\n",
    "  xlabel(\"time (min)\");\n",
    "  ylabel(\"Alcohol concentration (mg/L)\");\n",
    "  title(title_);\n",
    "endfunction"
   ]
  },
  {
   "cell_type": "code",
   "execution_count": 15,
   "metadata": {},
   "outputs": [
    {
     "name": "stdout",
     "output_type": "stream",
     "text": [
      "Vc1 =  10.200\n",
      "Vc2 =  21.200\n",
      "Ld =  809\n",
      "Lu =  3.6500\n",
      "---\n",
      "Vc1 =  14.500\n",
      "Vc2 =  21.200\n",
      "Ld =  809\n",
      "Lu =  3.6500\n",
      "---\n",
      "Vc1 =  18.800\n",
      "Vc2 =  21.200\n",
      "Ld =  809\n",
      "Lu =  3.6500\n",
      "---\n"
     ]
    },
    {
     "data": {
      "image/png": "[encoded data removed]",
      "text/plain": [
       "<IPython.core.display.Image object>"
      ]
     },
     "metadata": {},
     "output_type": "display_data"
    }
   ],
   "source": [
    "# varying Vc1\n",
    "# Middly alcoholic\n",
    "# Alcohol is mainly distributed in the central compartment\n",
    "hold on;\n",
    "for delta = [-4.3,0,4.3]\n",
    "    norberg_simple(\n",
    "      x1_0 = 300,\n",
    "      x2_0 = 50,\n",
    "      delta_Vc1=delta,\n",
    "      delta_Vc2=0,\n",
    "      delta_Ld=0,\n",
    "      delta_Lu=0,\n",
    "      title_=\"Fig2 : Variation of alcohol concentration for different values of volume of the central compartment\",\n",
    "      annot=num2str(delta)\n",
    "     )\n",
    "     disp(\"---\");\n",
    "endfor\n",
    "hold off;"
   ]
  },
  {
   "cell_type": "markdown",
   "metadata": {},
   "source": [
    "As we can observe in this figure, with an inital alcohol concentration of 300𝑚𝑔𝐿 in the central compartment and a little alchol concentration (50𝑚𝑔𝐿) in the peripheral comaprtment, the rate of concentration decrease is greater for a lower $V_{C_1}$."
   ]
  },
  {
   "cell_type": "code",
   "execution_count": 16,
   "metadata": {},
   "outputs": [
    {
     "name": "stdout",
     "output_type": "stream",
     "text": [
      "Vc1 =  14.500\n",
      "Vc2 =  16.800\n",
      "Ld =  809\n",
      "Lu =  3.6500\n",
      "---\n",
      "Vc1 =  14.500\n",
      "Vc2 =  21.200\n",
      "Ld =  809\n",
      "Lu =  3.6500\n",
      "---\n",
      "Vc1 =  14.500\n",
      "Vc2 =  25.600\n",
      "Ld =  809\n",
      "Lu =  3.6500\n",
      "---\n"
     ]
    },
    {
     "data": {
      "image/png": "[encoded data removed]",
      "text/plain": [
       "<IPython.core.display.Image object>"
      ]
     },
     "metadata": {},
     "output_type": "display_data"
    }
   ],
   "source": [
    "# varying Vc2\n",
    "# Middly alcoholic \n",
    "# Alcohol equally distributed in the central compartment and the peripheral compartment\n",
    "hold on;\n",
    "for delta = [-4.4,0,4.4]\n",
    "    norberg_simple(\n",
    "      x1_0 = 300,\n",
    "      x2_0 = 300,\n",
    "      delta_Vc1=0,\n",
    "      delta_Vc2=delta,\n",
    "      delta_Ld=0,\n",
    "      delta_Lu=0,\n",
    "      title_=\"Fig2 : Variation of alcohol concentration for different values of volume of the peripheral compartment\",\n",
    "      annot=num2str(delta)\n",
    "     )\n",
    "     disp(\"---\");\n",
    "endfor\n",
    "hold off;"
   ]
  },
  {
   "cell_type": "markdown",
   "metadata": {},
   "source": [
    "As we can observe in this figure, alcohol concentration of 300𝑚𝑔𝐿 decreases faster if Volume of the peripheral compartment $V_{C_2}$ is lower."
   ]
  },
  {
   "cell_type": "code",
   "execution_count": 17,
   "metadata": {},
   "outputs": [
    {
     "name": "stdout",
     "output_type": "stream",
     "text": [
      "Vc1 =  14.500\n",
      "Vc2 =  21.200\n",
      "Ld =  577\n",
      "Lu =  3.6500\n",
      "---\n",
      "Vc1 =  14.500\n",
      "Vc2 =  21.200\n",
      "Ld =  809\n",
      "Lu =  3.6500\n",
      "---\n",
      "Vc1 =  14.500\n",
      "Vc2 =  21.200\n",
      "Ld =  1041\n",
      "Lu =  3.6500\n",
      "---\n"
     ]
    },
    {
     "data": {
      "image/png": "[encoded data removed]",
      "text/plain": [
       "<IPython.core.display.Image object>"
      ]
     },
     "metadata": {},
     "output_type": "display_data"
    }
   ],
   "source": [
    "# varying L_d\n",
    "# Middly alcoholic \n",
    "# Alcohol is mainly distributed in the peripheral compartment\n",
    "hold on;\n",
    "for delta = [-232,0,232]\n",
    "    norberg_simple(\n",
    "      x1_0 = 100,\n",
    "      x2_0 = 300,\n",
    "      delta_Vc1=0,\n",
    "      delta_Vc2=0,\n",
    "      delta_Ld=delta,\n",
    "      delta_Lu=0,\n",
    "      title_=\"Fig2 : Variation of alcohol concentration for different values of the parameter of distribution between compartments\",\n",
    "      annot=num2str(delta)\n",
    "     )\n",
    "     disp(\"---\");\n",
    "endfor\n",
    "hold off;"
   ]
  },
  {
   "cell_type": "markdown",
   "metadata": {},
   "source": [
    "We can notice that if the distribution between compartments varies, even if alcohol is mainly distributed in the peripheral compartment (or in the central compartment), then the global concentrationd ecreases equally for all values of $L_d$."
   ]
  },
  {
   "cell_type": "code",
   "execution_count": 18,
   "metadata": {},
   "outputs": [
    {
     "name": "stdout",
     "output_type": "stream",
     "text": [
      "Vc1 =  14.500\n",
      "Vc2 =  21.200\n",
      "Ld =  809\n",
      "Lu =  1.6100\n",
      "---\n",
      "Vc1 =  14.500\n",
      "Vc2 =  21.200\n",
      "Ld =  809\n",
      "Lu =  3.6500\n",
      "---\n",
      "Vc1 =  14.500\n",
      "Vc2 =  21.200\n",
      "Ld =  809\n",
      "Lu =  5.6900\n",
      "---\n"
     ]
    },
    {
     "data": {
      "image/png": "[encoded data removed]",
      "text/plain": [
       "<IPython.core.display.Image object>"
      ]
     },
     "metadata": {},
     "output_type": "display_data"
    }
   ],
   "source": [
    "# varying Lu\n",
    "hold on;\n",
    "for delta = [-2.04,0,2.04]\n",
    "    norberg_simple(\n",
    "      x1_0 = 200,\n",
    "      x2_0 = 100,\n",
    "      delta_Vc1=0,\n",
    "      delta_Vc2=0,\n",
    "      delta_Ld=0,\n",
    "      delta_Lu=delta,\n",
    "      title_=\"Fig2 : Variation of alcohol concentration for different elimination cosntant values\",\n",
    "      annot=num2str(delta)\n",
    "     )\n",
    "     disp(\"---\");\n",
    "endfor\n",
    "hold off;"
   ]
  },
  {
   "cell_type": "markdown",
   "metadata": {},
   "source": [
    "We can observe that the decreasing rate is greater for a lower $L_u$."
   ]
  },
  {
   "cell_type": "markdown",
   "metadata": {},
   "source": [
    "## Norberg original\n",
    "The following model of Nordberg is the original one:\n",
    "\\begin{cases}\n",
    "    V_{c1} \\frac{dC_1(t)}{dt} = -L\\cdot C_1(t) - L_d\\cdot C_1(t)+ L_d \\cdot C_2(t) - L_u \\cdot C_1(t)\\\\\n",
    "    V_{c2} \\frac{dC_2(t)}{dt} = L_d \\cdot C_1(t)-L_d \\cdot C_2(t)\\\\\n",
    "\\end{cases} \n",
    "\n",
    "where:\n",
    "- $L =  \\frac{v_{max}}{k_m + C_1(t)}$\n",
    "- $v_{max}$ represents the maximial elimination rate of alcohol $95.0 \\pm 25.1$  [$\\frac{mg}{min}$]\n",
    "- $k_m$ is the constant Michaelis-Menten $27.0 \\pm 18.9$ [$\\frac{mg}{L}$].\n",
    "\n",
    "### Analysis\n",
    "#### Calculation of the Jacobian matrix"
   ]
  },
  {
   "cell_type": "code",
   "execution_count": 19,
   "metadata": {},
   "outputs": [
    {
     "name": "stdout",
     "output_type": "stream",
     "text": [
      "Vc1 =  14.500\n",
      "Vc2 =  21.200\n",
      "Km =  27\n",
      "Ld =  809\n",
      "Lu =  3.6500\n",
      "Vmax =  95\n",
      "warning: passing floating-point values to sym is dangerous, see \"help sym\"\n",
      "warning: called from\n",
      "    double_to_sym_heuristic at line 50 column 7\n",
      "    sym at line 379 column 13\n",
      "    mtimes at line 65 column 5\n",
      "warning: passing floating-point values to sym is dangerous, see \"help sym\"\n",
      "warning: called from\n",
      "    double_to_sym_heuristic at line 50 column 7\n",
      "    sym at line 379 column 13\n",
      "    mtimes at line 65 column 5\n",
      "warning: passing floating-point values to sym is dangerous, see \"help sym\"\n",
      "warning: called from\n",
      "    double_to_sym_heuristic at line 50 column 7\n",
      "    sym at line 379 column 13\n",
      "    mtimes at line 65 column 5\n",
      "sys = (sym 2×1 matrix)\n",
      "\n",
      "  ⎡  16253⋅x₁      190⋅x₁      1618⋅x₂⎤\n",
      "  ⎢- ──────── - ──────────── + ───────⎥\n",
      "  ⎢    290      29⋅(x₁ + 27)      29  ⎥\n",
      "  ⎢                                   ⎥\n",
      "  ⎢         4045⋅x₁   4045⋅x₂         ⎥\n",
      "  ⎢         ─────── - ───────         ⎥\n",
      "  ⎣           106       106           ⎦\n",
      "\n",
      "j = (sym 2×2 matrix)\n",
      "\n",
      "  ⎡    190⋅x₁      16253       190        1618 ⎤\n",
      "  ⎢───────────── - ───── - ────────────   ──── ⎥\n",
      "  ⎢            2    290    29⋅(x₁ + 27)    29  ⎥\n",
      "  ⎢29⋅(x₁ + 27)                                ⎥\n",
      "  ⎢                                            ⎥\n",
      "  ⎢                4045                  -4045 ⎥\n",
      "  ⎢                ────                  ──────⎥\n",
      "  ⎣                106                    106  ⎦\n",
      "\n"
     ]
    }
   ],
   "source": [
    "pkg load symbolic\n",
    "syms x1 x2 \n",
    "Vc1 = 14.5 \n",
    "Vc2 = 21.2\n",
    "Km = 27\n",
    "Ld = 809\n",
    "Lu = 3.65\n",
    "Vmax = 95\n",
    "sys = [(1/Vc1)*(-(Vmax/(Km+x1))*x1 - Ld*x1 + Ld*x2 - Lu*x1); (1/Vc2)*(Ld*x1-Ld*x2)]\n",
    "j = jacobian(sys)"
   ]
  },
  {
   "cell_type": "markdown",
   "metadata": {},
   "source": [
    "#### Calculations of stationary points\n",
    "To do this, we cancel the derivatives:\n",
    "\n",
    "\\begin{cases}\n",
    "    \\dot{x_1} = \\frac{-L\\cdot x1(t)-L_d\\cdot x1(t) + L_d\\cdot x2(t) - L_u\\cdot x1(t)}{V_{x1(t)}}= 0\\\\\n",
    "    \\dot{x_2} = \\frac{L_d \\cdot x1(t) - L_d\\cdot x2(t)}{V_{x2(t)}}  = 0\\\\\n",
    "\\end{cases} \n",
    "##### Solutions:\n",
    "This system has two possible solutions: $[-3871/73, -3871/73]$, $[0, 0]$.\n",
    "\n",
    "#### Linearization around the stationary point $[-3871/73, -3871/73]$\n",
    "We replace these x1 and x2 values in the Jacobian:"
   ]
  },
  {
   "cell_type": "code",
   "execution_count": 20,
   "metadata": {},
   "outputs": [
    {
     "name": "stdout",
     "output_type": "stream",
     "text": [
      "error: 'sub' undefined near line 1 column 5\n",
      "V =\n",
      "\n",
      "  -0.82611  -0.70616\n",
      "   0.56351  -0.70805\n",
      "\n",
      "L =\n",
      "\n",
      "Diagonal Matrix\n",
      "\n",
      "  -94.10313          0\n",
      "          0   -0.10208\n",
      "\n",
      "tr = -94.205\n",
      "d =  9.6059\n"
     ]
    }
   ],
   "source": [
    "A = sub(j,{x1,x2}, {(-3871/73),(-3871/73)})\n",
    "[V,L] = eig(A)\n",
    "tr = trace(A)\n",
    "d = det(A)"
   ]
  },
  {
   "cell_type": "markdown",
   "metadata": {},
   "source": [
    "##### Interpretation\n",
    "\n",
    "As we can observer we have 2 eigenvalues $\\lambda_1=0$ (if rounded) and $\\lambda_2=-38.16$.\n",
    "We have that:\n",
    "- $\\lambda_{1,2} \\in R $\n",
    "- $\\lambda_{1}$ has different sign from $\\lambda_{2}$\n",
    " \n",
    " \n",
    "Therefore, we deduce that the there is a **saddle** in the system.<br>\n",
    "Additionally, $\\lambda_1 \\cdot \\lambda_2 = 0$, thus, the system is **non simple**.\n",
    "Hence, all states that belong to the right $a_{11}x_1 + a_{12}x_2 = $0 are equilibrium states.\n",
    "Also, all trajectories are lines parallel to the right $v_2$. $0 = \\lambda_1 > \\lambda_2$ : this implies that all equilibrium states are stable.\n",
    "#### Phase portrait"
   ]
  },
  {
   "cell_type": "code",
   "execution_count": 21,
   "metadata": {
    "scrolled": false
   },
   "outputs": [
    {
     "name": "stdout",
     "output_type": "stream",
     "text": [
      "ans =\r\n",
      "\r\n",
      " Columns 1 through 8:\r\n",
      "\r\n",
      "  -1.50000  -1.40000  -1.30000  -1.20000  -1.10000  -1.00000  -0.90000  -0.80000\r\n",
      "  -1.50000  -1.40000  -1.30000  -1.20000  -1.10000  -1.00000  -0.90000  -0.80000\r\n",
      "  -1.50000  -1.40000  -1.30000  -1.20000  -1.10000  -1.00000  -0.90000  -0.80000\r\n",
      "  -1.50000  -1.40000  -1.30000  -1.20000  -1.10000  -1.00000  -0.90000  -0.80000\r\n",
      "  -1.50000  -1.40000  -1.30000  -1.20000  -1.10000  -1.00000  -0.90000  -0.80000\r\n",
      "  -1.50000  -1.40000  -1.30000  -1.20000  -1.10000  -1.00000  -0.90000  -0.80000\r\n",
      "  -1.50000  -1.40000  -1.30000  -1.20000  -1.10000  -1.00000  -0.90000  -0.80000\r\n",
      "  -1.50000  -1.40000  -1.30000  -1.20000  -1.10000  -1.00000  -0.90000  -0.80000\r\n",
      "  -1.50000  -1.40000  -1.30000  -1.20000  -1.10000  -1.00000  -0.90000  -0.80000\r\n",
      "  -1.50000  -1.40000  -1.30000  -1.20000  -1.10000  -1.00000  -0.90000  -0.80000\r\n",
      "  -1.50000  -1.40000  -1.30000  -1.20000  -1.10000  -1.00000  -0.90000  -0.80000\r\n",
      "  -1.50000  -1.40000  -1.30000  -1.20000  -1.10000  -1.00000  -0.90000  -0.80000\r\n",
      "  -1.50000  -1.40000  -1.30000  -1.20000  -1.10000  -1.00000  -0.90000  -0.80000\r\n",
      "  -1.50000  -1.40000  -1.30000  -1.20000  -1.10000  -1.00000  -0.90000  -0.80000\r\n",
      "  -1.50000  -1.40000  -1.30000  -1.20000  -1.10000  -1.00000  -0.90000  -0.80000\r\n",
      "  -1.50000  -1.40000  -1.30000  -1.20000  -1.10000  -1.00000  -0.90000  -0.80000\r\n",
      "  -1.50000  -1.40000  -1.30000  -1.20000  -1.10000  -1.00000  -0.90000  -0.80000\r\n",
      "  -1.50000  -1.40000  -1.30000  -1.20000  -1.10000  -1.00000  -0.90000  -0.80000\r\n",
      "  -1.50000  -1.40000  -1.30000  -1.20000  -1.10000  -1.00000  -0.90000  -0.80000\r\n",
      "  -1.50000  -1.40000  -1.30000  -1.20000  -1.10000  -1.00000  -0.90000  -0.80000\r\n",
      "  -1.50000  -1.40000  -1.30000  -1.20000  -1.10000  -1.00000  -0.90000  -0.80000\r\n",
      "  -1.50000  -1.40000  -1.30000  -1.20000  -1.10000  -1.00000  -0.90000  -0.80000\r\n",
      "  -1.50000  -1.40000  -1.30000  -1.20000  -1.10000  -1.00000  -0.90000  -0.80000\r\n",
      "  -1.50000  -1.40000  -1.30000  -1.20000  -1.10000  -1.00000  -0.90000  -0.80000\r\n",
      "  -1.50000  -1.40000  -1.30000  -1.20000  -1.10000  -1.00000  -0.90000  -0.80000\r\n",
      "  -1.50000  -1.40000  -1.30000  -1.20000  -1.10000  -1.00000  -0.90000  -0.80000\r\n",
      "  -1.50000  -1.40000  -1.30000  -1.20000  -1.10000  -1.00000  -0.90000  -0.80000\r\n",
      "  -1.50000  -1.40000  -1.30000  -1.20000  -1.10000  -1.00000  -0.90000  -0.80000\r\n",
      "  -1.50000  -1.40000  -1.30000  -1.20000  -1.10000  -1.00000  -0.90000  -0.80000\r\n",
      "  -1.50000  -1.40000  -1.30000  -1.20000  -1.10000  -1.00000  -0.90000  -0.80000\r\n",
      "  -1.50000  -1.40000  -1.30000  -1.20000  -1.10000  -1.00000  -0.90000  -0.80000\r\n",
      "\r\n",
      " Columns 9 through 16:\r\n",
      "\r\n",
      "  -0.70000  -0.60000  -0.50000  -0.40000  -0.30000  -0.20000  -0.10000   0.00000\r\n",
      "  -0.70000  -0.60000  -0.50000  -0.40000  -0.30000  -0.20000  -0.10000   0.00000\r\n",
      "  -0.70000  -0.60000  -0.50000  -0.40000  -0.30000  -0.20000  -0.10000   0.00000\r\n",
      "  -0.70000  -0.60000  -0.50000  -0.40000  -0.30000  -0.20000  -0.10000   0.00000\r\n",
      "  -0.70000  -0.60000  -0.50000  -0.40000  -0.30000  -0.20000  -0.10000   0.00000\r\n",
      "  -0.70000  -0.60000  -0.50000  -0.40000  -0.30000  -0.20000  -0.10000   0.00000\r\n",
      "  -0.70000  -0.60000  -0.50000  -0.40000  -0.30000  -0.20000  -0.10000   0.00000\r\n",
      "  -0.70000  -0.60000  -0.50000  -0.40000  -0.30000  -0.20000  -0.10000   0.00000\r\n",
      "  -0.70000  -0.60000  -0.50000  -0.40000  -0.30000  -0.20000  -0.10000   0.00000\r\n",
      "  -0.70000  -0.60000  -0.50000  -0.40000  -0.30000  -0.20000  -0.10000   0.00000\r\n",
      "  -0.70000  -0.60000  -0.50000  -0.40000  -0.30000  -0.20000  -0.10000   0.00000\r\n",
      "  -0.70000  -0.60000  -0.50000  -0.40000  -0.30000  -0.20000  -0.10000   0.00000\r\n",
      "  -0.70000  -0.60000  -0.50000  -0.40000  -0.30000  -0.20000  -0.10000   0.00000\r\n",
      "  -0.70000  -0.60000  -0.50000  -0.40000  -0.30000  -0.20000  -0.10000   0.00000\r\n",
      "  -0.70000  -0.60000  -0.50000  -0.40000  -0.30000  -0.20000  -0.10000   0.00000\r\n",
      "  -0.70000  -0.60000  -0.50000  -0.40000  -0.30000  -0.20000  -0.10000   0.00000\r\n",
      "  -0.70000  -0.60000  -0.50000  -0.40000  -0.30000  -0.20000  -0.10000   0.00000\r\n",
      "  -0.70000  -0.60000  -0.50000  -0.40000  -0.30000  -0.20000  -0.10000   0.00000\r\n",
      "  -0.70000  -0.60000  -0.50000  -0.40000  -0.30000  -0.20000  -0.10000   0.00000\r\n",
      "  -0.70000  -0.60000  -0.50000  -0.40000  -0.30000  -0.20000  -0.10000   0.00000\r\n",
      "  -0.70000  -0.60000  -0.50000  -0.40000  -0.30000  -0.20000  -0.10000   0.00000\r\n",
      "  -0.70000  -0.60000  -0.50000  -0.40000  -0.30000  -0.20000  -0.10000   0.00000\r\n",
      "  -0.70000  -0.60000  -0.50000  -0.40000  -0.30000  -0.20000  -0.10000   0.00000\r\n",
      "  -0.70000  -0.60000  -0.50000  -0.40000  -0.30000  -0.20000  -0.10000   0.00000\r\n",
      "  -0.70000  -0.60000  -0.50000  -0.40000  -0.30000  -0.20000  -0.10000   0.00000\r\n",
      "  -0.70000  -0.60000  -0.50000  -0.40000  -0.30000  -0.20000  -0.10000   0.00000\r\n",
      "  -0.70000  -0.60000  -0.50000  -0.40000  -0.30000  -0.20000  -0.10000   0.00000\r\n",
      "  -0.70000  -0.60000  -0.50000  -0.40000  -0.30000  -0.20000  -0.10000   0.00000\r\n",
      "  -0.70000  -0.60000  -0.50000  -0.40000  -0.30000  -0.20000  -0.10000   0.00000\r\n",
      "  -0.70000  -0.60000  -0.50000  -0.40000  -0.30000  -0.20000  -0.10000   0.00000\r\n",
      "  -0.70000  -0.60000  -0.50000  -0.40000  -0.30000  -0.20000  -0.10000   0.00000\r\n",
      "\r\n",
      " Columns 17 through 24:\r\n",
      "\r\n",
      "   0.10000   0.20000   0.30000   0.40000   0.50000   0.60000   0.70000   0.80000\r\n",
      "   0.10000   0.20000   0.30000   0.40000   0.50000   0.60000   0.70000   0.80000\r\n",
      "   0.10000   0.20000   0.30000   0.40000   0.50000   0.60000   0.70000   0.80000\r\n",
      "   0.10000   0.20000   0.30000   0.40000   0.50000   0.60000   0.70000   0.80000\r\n",
      "   0.10000   0.20000   0.30000   0.40000   0.50000   0.60000   0.70000   0.80000\r\n",
      "   0.10000   0.20000   0.30000   0.40000   0.50000   0.60000   0.70000   0.80000\r\n",
      "   0.10000   0.20000   0.30000   0.40000   0.50000   0.60000   0.70000   0.80000\r\n",
      "   0.10000   0.20000   0.30000   0.40000   0.50000   0.60000   0.70000   0.80000\r\n",
      "   0.10000   0.20000   0.30000   0.40000   0.50000   0.60000   0.70000   0.80000\r\n",
      "   0.10000   0.20000   0.30000   0.40000   0.50000   0.60000   0.70000   0.80000\r\n",
      "   0.10000   0.20000   0.30000   0.40000   0.50000   0.60000   0.70000   0.80000\r\n",
      "   0.10000   0.20000   0.30000   0.40000   0.50000   0.60000   0.70000   0.80000\r\n",
      "   0.10000   0.20000   0.30000   0.40000   0.50000   0.60000   0.70000   0.80000\r\n",
      "   0.10000   0.20000   0.30000   0.40000   0.50000   0.60000   0.70000   0.80000\r\n",
      "   0.10000   0.20000   0.30000   0.40000   0.50000   0.60000   0.70000   0.80000\r\n",
      "   0.10000   0.20000   0.30000   0.40000   0.50000   0.60000   0.70000   0.80000\r\n",
      "   0.10000   0.20000   0.30000   0.40000   0.50000   0.60000   0.70000   0.80000\r\n",
      "   0.10000   0.20000   0.30000   0.40000   0.50000   0.60000   0.70000   0.80000\r\n",
      "   0.10000   0.20000   0.30000   0.40000   0.50000   0.60000   0.70000   0.80000\r\n",
      "   0.10000   0.20000   0.30000   0.40000   0.50000   0.60000   0.70000   0.80000\r\n",
      "   0.10000   0.20000   0.30000   0.40000   0.50000   0.60000   0.70000   0.80000\r\n",
      "   0.10000   0.20000   0.30000   0.40000   0.50000   0.60000   0.70000   0.80000\r\n",
      "   0.10000   0.20000   0.30000   0.40000   0.50000   0.60000   0.70000   0.80000\r\n",
      "   0.10000   0.20000   0.30000   0.40000   0.50000   0.60000   0.70000   0.80000\r\n",
      "   0.10000   0.20000   0.30000   0.40000   0.50000   0.60000   0.70000   0.80000\r\n",
      "   0.10000   0.20000   0.30000   0.40000   0.50000   0.60000   0.70000   0.80000\r\n",
      "   0.10000   0.20000   0.30000   0.40000   0.50000   0.60000   0.70000   0.80000\r\n",
      "   0.10000   0.20000   0.30000   0.40000   0.50000   0.60000   0.70000   0.80000\r\n",
      "   0.10000   0.20000   0.30000   0.40000   0.50000   0.60000   0.70000   0.80000\r\n",
      "   0.10000   0.20000   0.30000   0.40000   0.50000   0.60000   0.70000   0.80000\r\n",
      "   0.10000   0.20000   0.30000   0.40000   0.50000   0.60000   0.70000   0.80000\r\n",
      "\r\n",
      " Columns 25 through 31:\r\n",
      "\r\n",
      "   0.90000   1.00000   1.10000   1.20000   1.30000   1.40000   1.50000\r\n",
      "   0.90000   1.00000   1.10000   1.20000   1.30000   1.40000   1.50000\r\n",
      "   0.90000   1.00000   1.10000   1.20000   1.30000   1.40000   1.50000\r\n",
      "   0.90000   1.00000   1.10000   1.20000   1.30000   1.40000   1.50000\r\n",
      "   0.90000   1.00000   1.10000   1.20000   1.30000   1.40000   1.50000\r\n",
      "   0.90000   1.00000   1.10000   1.20000   1.30000   1.40000   1.50000\r\n",
      "   0.90000   1.00000   1.10000   1.20000   1.30000   1.40000   1.50000\r\n",
      "   0.90000   1.00000   1.10000   1.20000   1.30000   1.40000   1.50000\r\n",
      "   0.90000   1.00000   1.10000   1.20000   1.30000   1.40000   1.50000\r\n",
      "   0.90000   1.00000   1.10000   1.20000   1.30000   1.40000   1.50000\r\n",
      "   0.90000   1.00000   1.10000   1.20000   1.30000   1.40000   1.50000\r\n",
      "   0.90000   1.00000   1.10000   1.20000   1.30000   1.40000   1.50000\r\n",
      "   0.90000   1.00000   1.10000   1.20000   1.30000   1.40000   1.50000\r\n",
      "   0.90000   1.00000   1.10000   1.20000   1.30000   1.40000   1.50000\r\n",
      "   0.90000   1.00000   1.10000   1.20000   1.30000   1.40000   1.50000\r\n",
      "   0.90000   1.00000   1.10000   1.20000   1.30000   1.40000   1.50000\r\n",
      "   0.90000   1.00000   1.10000   1.20000   1.30000   1.40000   1.50000\r\n",
      "   0.90000   1.00000   1.10000   1.20000   1.30000   1.40000   1.50000\r\n",
      "   0.90000   1.00000   1.10000   1.20000   1.30000   1.40000   1.50000\r\n",
      "   0.90000   1.00000   1.10000   1.20000   1.30000   1.40000   1.50000\r\n",
      "   0.90000   1.00000   1.10000   1.20000   1.30000   1.40000   1.50000\r\n",
      "   0.90000   1.00000   1.10000   1.20000   1.30000   1.40000   1.50000\r\n",
      "   0.90000   1.00000   1.10000   1.20000   1.30000   1.40000   1.50000\r\n",
      "   0.90000   1.00000   1.10000   1.20000   1.30000   1.40000   1.50000\r\n",
      "   0.90000   1.00000   1.10000   1.20000   1.30000   1.40000   1.50000\r\n",
      "   0.90000   1.00000   1.10000   1.20000   1.30000   1.40000   1.50000\r\n",
      "   0.90000   1.00000   1.10000   1.20000   1.30000   1.40000   1.50000\r\n",
      "   0.90000   1.00000   1.10000   1.20000   1.30000   1.40000   1.50000\r\n",
      "   0.90000   1.00000   1.10000   1.20000   1.30000   1.40000   1.50000\r\n",
      "   0.90000   1.00000   1.10000   1.20000   1.30000   1.40000   1.50000\r\n",
      "   0.90000   1.00000   1.10000   1.20000   1.30000   1.40000   1.50000\r\n",
      "\r\n"
     ]
    },
    {
     "data": {
      "image/png": "[encoded data removed]",
      "text/plain": [
       "<IPython.core.display.Image object>"
      ]
     },
     "metadata": {},
     "output_type": "display_data"
    }
   ],
   "source": [
    "plot_portrait_phase(A,[-3871/73 -3871/73])"
   ]
  },
  {
   "cell_type": "markdown",
   "metadata": {},
   "source": [
    "#### Linearization around the stationary point $[0, 0]$\n",
    "We replace these x1 and x2 values in the Jacobian:"
   ]
  },
  {
   "cell_type": "code",
   "execution_count": 22,
   "metadata": {},
   "outputs": [
    {
     "name": "stdout",
     "output_type": "stream",
     "text": [
      "A =\n",
      "\n",
      "  -56.287   55.793\n",
      "   38.160  -38.160\n",
      "\n",
      "V =\n",
      "\n",
      "  -0.82678  -0.70524\n",
      "   0.56252  -0.70896\n",
      "\n",
      "L =\n",
      "\n",
      "Diagonal Matrix\n",
      "\n",
      "  -94.24769          0\n",
      "          0   -0.20017\n",
      "\n",
      "tr = -94.448\n",
      "d =  18.866\n"
     ]
    }
   ],
   "source": [
    "A = [- 16253/290 - 190/(29*27) 1618/29; 4045/106 -4045/106]\n",
    "[V,L] = eig(A)\n",
    "tr = trace(A)\n",
    "d = det(A)"
   ]
  },
  {
   "cell_type": "markdown",
   "metadata": {},
   "source": [
    "##### Interpretation\n",
    "As we can observer we have 2 eigenvalues $\\lambda_1=-94.24$ and $\\lambda_2=-0.20$.\n",
    "We have that:\n",
    "- $\\lambda_{1,2} \\in R $\n",
    "- $\\lambda_{1,2} < 0$\n",
    " \n",
    " \n",
    "Therefore, we deduce that the there is a **stable node** in the system.<br>\n",
    "Additionally, $\\lambda_1 \\cdot \\lambda_2 \\neq 0$, thus, the system is **simple**.\n",
    "Notably, we have $tr(A)=-94.4<0$ and $det(A)=18.85>0$, hence, we have a **degenerated** stable node.\n",
    "\n",
    "##### Isoclines\n",
    "We can calculate the two isoclines solving the original model for x2 (and the derivatives = 0):\n",
    "We find the two isoclines:\n",
    "- x2 = (x1 (440731 + 16253 x1))/(16180 (27 + x1))\n",
    "- x2 = x1\n",
    "\n",
    "\n",
    "#### Phase portrait"
   ]
  },
  {
   "cell_type": "code",
   "execution_count": 23,
   "metadata": {
    "scrolled": false
   },
   "outputs": [
    {
     "name": "stdout",
     "output_type": "stream",
     "text": [
      "ans =\r\n",
      "\r\n",
      " Columns 1 through 8:\r\n",
      "\r\n",
      "  -1.50000  -1.40000  -1.30000  -1.20000  -1.10000  -1.00000  -0.90000  -0.80000\r\n",
      "  -1.50000  -1.40000  -1.30000  -1.20000  -1.10000  -1.00000  -0.90000  -0.80000\r\n",
      "  -1.50000  -1.40000  -1.30000  -1.20000  -1.10000  -1.00000  -0.90000  -0.80000\r\n",
      "  -1.50000  -1.40000  -1.30000  -1.20000  -1.10000  -1.00000  -0.90000  -0.80000\r\n",
      "  -1.50000  -1.40000  -1.30000  -1.20000  -1.10000  -1.00000  -0.90000  -0.80000\r\n",
      "  -1.50000  -1.40000  -1.30000  -1.20000  -1.10000  -1.00000  -0.90000  -0.80000\r\n",
      "  -1.50000  -1.40000  -1.30000  -1.20000  -1.10000  -1.00000  -0.90000  -0.80000\r\n",
      "  -1.50000  -1.40000  -1.30000  -1.20000  -1.10000  -1.00000  -0.90000  -0.80000\r\n",
      "  -1.50000  -1.40000  -1.30000  -1.20000  -1.10000  -1.00000  -0.90000  -0.80000\r\n",
      "  -1.50000  -1.40000  -1.30000  -1.20000  -1.10000  -1.00000  -0.90000  -0.80000\r\n",
      "  -1.50000  -1.40000  -1.30000  -1.20000  -1.10000  -1.00000  -0.90000  -0.80000\r\n",
      "  -1.50000  -1.40000  -1.30000  -1.20000  -1.10000  -1.00000  -0.90000  -0.80000\r\n",
      "  -1.50000  -1.40000  -1.30000  -1.20000  -1.10000  -1.00000  -0.90000  -0.80000\r\n",
      "  -1.50000  -1.40000  -1.30000  -1.20000  -1.10000  -1.00000  -0.90000  -0.80000\r\n",
      "  -1.50000  -1.40000  -1.30000  -1.20000  -1.10000  -1.00000  -0.90000  -0.80000\r\n",
      "  -1.50000  -1.40000  -1.30000  -1.20000  -1.10000  -1.00000  -0.90000  -0.80000\r\n",
      "  -1.50000  -1.40000  -1.30000  -1.20000  -1.10000  -1.00000  -0.90000  -0.80000\r\n",
      "  -1.50000  -1.40000  -1.30000  -1.20000  -1.10000  -1.00000  -0.90000  -0.80000\r\n",
      "  -1.50000  -1.40000  -1.30000  -1.20000  -1.10000  -1.00000  -0.90000  -0.80000\r\n",
      "  -1.50000  -1.40000  -1.30000  -1.20000  -1.10000  -1.00000  -0.90000  -0.80000\r\n",
      "  -1.50000  -1.40000  -1.30000  -1.20000  -1.10000  -1.00000  -0.90000  -0.80000\r\n",
      "  -1.50000  -1.40000  -1.30000  -1.20000  -1.10000  -1.00000  -0.90000  -0.80000\r\n",
      "  -1.50000  -1.40000  -1.30000  -1.20000  -1.10000  -1.00000  -0.90000  -0.80000\r\n",
      "  -1.50000  -1.40000  -1.30000  -1.20000  -1.10000  -1.00000  -0.90000  -0.80000\r\n",
      "  -1.50000  -1.40000  -1.30000  -1.20000  -1.10000  -1.00000  -0.90000  -0.80000\r\n",
      "  -1.50000  -1.40000  -1.30000  -1.20000  -1.10000  -1.00000  -0.90000  -0.80000\r\n",
      "  -1.50000  -1.40000  -1.30000  -1.20000  -1.10000  -1.00000  -0.90000  -0.80000\r\n",
      "  -1.50000  -1.40000  -1.30000  -1.20000  -1.10000  -1.00000  -0.90000  -0.80000\r\n",
      "  -1.50000  -1.40000  -1.30000  -1.20000  -1.10000  -1.00000  -0.90000  -0.80000\r\n",
      "  -1.50000  -1.40000  -1.30000  -1.20000  -1.10000  -1.00000  -0.90000  -0.80000\r\n",
      "  -1.50000  -1.40000  -1.30000  -1.20000  -1.10000  -1.00000  -0.90000  -0.80000\r\n",
      "\r\n",
      " Columns 9 through 16:\r\n",
      "\r\n",
      "  -0.70000  -0.60000  -0.50000  -0.40000  -0.30000  -0.20000  -0.10000   0.00000\r\n",
      "  -0.70000  -0.60000  -0.50000  -0.40000  -0.30000  -0.20000  -0.10000   0.00000\r\n",
      "  -0.70000  -0.60000  -0.50000  -0.40000  -0.30000  -0.20000  -0.10000   0.00000\r\n",
      "  -0.70000  -0.60000  -0.50000  -0.40000  -0.30000  -0.20000  -0.10000   0.00000\r\n",
      "  -0.70000  -0.60000  -0.50000  -0.40000  -0.30000  -0.20000  -0.10000   0.00000\r\n",
      "  -0.70000  -0.60000  -0.50000  -0.40000  -0.30000  -0.20000  -0.10000   0.00000\r\n",
      "  -0.70000  -0.60000  -0.50000  -0.40000  -0.30000  -0.20000  -0.10000   0.00000\r\n",
      "  -0.70000  -0.60000  -0.50000  -0.40000  -0.30000  -0.20000  -0.10000   0.00000\r\n",
      "  -0.70000  -0.60000  -0.50000  -0.40000  -0.30000  -0.20000  -0.10000   0.00000\r\n",
      "  -0.70000  -0.60000  -0.50000  -0.40000  -0.30000  -0.20000  -0.10000   0.00000\r\n",
      "  -0.70000  -0.60000  -0.50000  -0.40000  -0.30000  -0.20000  -0.10000   0.00000\r\n",
      "  -0.70000  -0.60000  -0.50000  -0.40000  -0.30000  -0.20000  -0.10000   0.00000\r\n",
      "  -0.70000  -0.60000  -0.50000  -0.40000  -0.30000  -0.20000  -0.10000   0.00000\r\n",
      "  -0.70000  -0.60000  -0.50000  -0.40000  -0.30000  -0.20000  -0.10000   0.00000\r\n",
      "  -0.70000  -0.60000  -0.50000  -0.40000  -0.30000  -0.20000  -0.10000   0.00000\r\n",
      "  -0.70000  -0.60000  -0.50000  -0.40000  -0.30000  -0.20000  -0.10000   0.00000\r\n",
      "  -0.70000  -0.60000  -0.50000  -0.40000  -0.30000  -0.20000  -0.10000   0.00000\r\n",
      "  -0.70000  -0.60000  -0.50000  -0.40000  -0.30000  -0.20000  -0.10000   0.00000\r\n",
      "  -0.70000  -0.60000  -0.50000  -0.40000  -0.30000  -0.20000  -0.10000   0.00000\r\n",
      "  -0.70000  -0.60000  -0.50000  -0.40000  -0.30000  -0.20000  -0.10000   0.00000\r\n",
      "  -0.70000  -0.60000  -0.50000  -0.40000  -0.30000  -0.20000  -0.10000   0.00000\r\n",
      "  -0.70000  -0.60000  -0.50000  -0.40000  -0.30000  -0.20000  -0.10000   0.00000\r\n",
      "  -0.70000  -0.60000  -0.50000  -0.40000  -0.30000  -0.20000  -0.10000   0.00000\r\n",
      "  -0.70000  -0.60000  -0.50000  -0.40000  -0.30000  -0.20000  -0.10000   0.00000\r\n",
      "  -0.70000  -0.60000  -0.50000  -0.40000  -0.30000  -0.20000  -0.10000   0.00000\r\n",
      "  -0.70000  -0.60000  -0.50000  -0.40000  -0.30000  -0.20000  -0.10000   0.00000\r\n",
      "  -0.70000  -0.60000  -0.50000  -0.40000  -0.30000  -0.20000  -0.10000   0.00000\r\n",
      "  -0.70000  -0.60000  -0.50000  -0.40000  -0.30000  -0.20000  -0.10000   0.00000\r\n",
      "  -0.70000  -0.60000  -0.50000  -0.40000  -0.30000  -0.20000  -0.10000   0.00000\r\n",
      "  -0.70000  -0.60000  -0.50000  -0.40000  -0.30000  -0.20000  -0.10000   0.00000\r\n",
      "  -0.70000  -0.60000  -0.50000  -0.40000  -0.30000  -0.20000  -0.10000   0.00000\r\n",
      "\r\n",
      " Columns 17 through 24:\r\n",
      "\r\n",
      "   0.10000   0.20000   0.30000   0.40000   0.50000   0.60000   0.70000   0.80000\r\n",
      "   0.10000   0.20000   0.30000   0.40000   0.50000   0.60000   0.70000   0.80000\r\n",
      "   0.10000   0.20000   0.30000   0.40000   0.50000   0.60000   0.70000   0.80000\r\n",
      "   0.10000   0.20000   0.30000   0.40000   0.50000   0.60000   0.70000   0.80000\r\n",
      "   0.10000   0.20000   0.30000   0.40000   0.50000   0.60000   0.70000   0.80000\r\n",
      "   0.10000   0.20000   0.30000   0.40000   0.50000   0.60000   0.70000   0.80000\r\n",
      "   0.10000   0.20000   0.30000   0.40000   0.50000   0.60000   0.70000   0.80000\r\n",
      "   0.10000   0.20000   0.30000   0.40000   0.50000   0.60000   0.70000   0.80000\r\n",
      "   0.10000   0.20000   0.30000   0.40000   0.50000   0.60000   0.70000   0.80000\r\n",
      "   0.10000   0.20000   0.30000   0.40000   0.50000   0.60000   0.70000   0.80000\r\n",
      "   0.10000   0.20000   0.30000   0.40000   0.50000   0.60000   0.70000   0.80000\r\n",
      "   0.10000   0.20000   0.30000   0.40000   0.50000   0.60000   0.70000   0.80000\r\n",
      "   0.10000   0.20000   0.30000   0.40000   0.50000   0.60000   0.70000   0.80000\r\n",
      "   0.10000   0.20000   0.30000   0.40000   0.50000   0.60000   0.70000   0.80000\r\n",
      "   0.10000   0.20000   0.30000   0.40000   0.50000   0.60000   0.70000   0.80000\r\n",
      "   0.10000   0.20000   0.30000   0.40000   0.50000   0.60000   0.70000   0.80000\r\n",
      "   0.10000   0.20000   0.30000   0.40000   0.50000   0.60000   0.70000   0.80000\r\n",
      "   0.10000   0.20000   0.30000   0.40000   0.50000   0.60000   0.70000   0.80000\r\n",
      "   0.10000   0.20000   0.30000   0.40000   0.50000   0.60000   0.70000   0.80000\r\n",
      "   0.10000   0.20000   0.30000   0.40000   0.50000   0.60000   0.70000   0.80000\r\n",
      "   0.10000   0.20000   0.30000   0.40000   0.50000   0.60000   0.70000   0.80000\r\n",
      "   0.10000   0.20000   0.30000   0.40000   0.50000   0.60000   0.70000   0.80000\r\n",
      "   0.10000   0.20000   0.30000   0.40000   0.50000   0.60000   0.70000   0.80000\r\n",
      "   0.10000   0.20000   0.30000   0.40000   0.50000   0.60000   0.70000   0.80000\r\n",
      "   0.10000   0.20000   0.30000   0.40000   0.50000   0.60000   0.70000   0.80000\r\n",
      "   0.10000   0.20000   0.30000   0.40000   0.50000   0.60000   0.70000   0.80000\r\n",
      "   0.10000   0.20000   0.30000   0.40000   0.50000   0.60000   0.70000   0.80000\r\n",
      "   0.10000   0.20000   0.30000   0.40000   0.50000   0.60000   0.70000   0.80000\r\n",
      "   0.10000   0.20000   0.30000   0.40000   0.50000   0.60000   0.70000   0.80000\r\n",
      "   0.10000   0.20000   0.30000   0.40000   0.50000   0.60000   0.70000   0.80000\r\n",
      "   0.10000   0.20000   0.30000   0.40000   0.50000   0.60000   0.70000   0.80000\r\n",
      "\r\n",
      " Columns 25 through 31:\r\n",
      "\r\n",
      "   0.90000   1.00000   1.10000   1.20000   1.30000   1.40000   1.50000\r\n",
      "   0.90000   1.00000   1.10000   1.20000   1.30000   1.40000   1.50000\r\n",
      "   0.90000   1.00000   1.10000   1.20000   1.30000   1.40000   1.50000\r\n",
      "   0.90000   1.00000   1.10000   1.20000   1.30000   1.40000   1.50000\r\n",
      "   0.90000   1.00000   1.10000   1.20000   1.30000   1.40000   1.50000\r\n",
      "   0.90000   1.00000   1.10000   1.20000   1.30000   1.40000   1.50000\r\n",
      "   0.90000   1.00000   1.10000   1.20000   1.30000   1.40000   1.50000\r\n",
      "   0.90000   1.00000   1.10000   1.20000   1.30000   1.40000   1.50000\r\n",
      "   0.90000   1.00000   1.10000   1.20000   1.30000   1.40000   1.50000\r\n",
      "   0.90000   1.00000   1.10000   1.20000   1.30000   1.40000   1.50000\r\n",
      "   0.90000   1.00000   1.10000   1.20000   1.30000   1.40000   1.50000\r\n",
      "   0.90000   1.00000   1.10000   1.20000   1.30000   1.40000   1.50000\r\n",
      "   0.90000   1.00000   1.10000   1.20000   1.30000   1.40000   1.50000\r\n",
      "   0.90000   1.00000   1.10000   1.20000   1.30000   1.40000   1.50000\r\n",
      "   0.90000   1.00000   1.10000   1.20000   1.30000   1.40000   1.50000\r\n",
      "   0.90000   1.00000   1.10000   1.20000   1.30000   1.40000   1.50000\r\n",
      "   0.90000   1.00000   1.10000   1.20000   1.30000   1.40000   1.50000\r\n",
      "   0.90000   1.00000   1.10000   1.20000   1.30000   1.40000   1.50000\r\n",
      "   0.90000   1.00000   1.10000   1.20000   1.30000   1.40000   1.50000\r\n",
      "   0.90000   1.00000   1.10000   1.20000   1.30000   1.40000   1.50000\r\n",
      "   0.90000   1.00000   1.10000   1.20000   1.30000   1.40000   1.50000\r\n",
      "   0.90000   1.00000   1.10000   1.20000   1.30000   1.40000   1.50000\r\n",
      "   0.90000   1.00000   1.10000   1.20000   1.30000   1.40000   1.50000\r\n",
      "   0.90000   1.00000   1.10000   1.20000   1.30000   1.40000   1.50000\r\n",
      "   0.90000   1.00000   1.10000   1.20000   1.30000   1.40000   1.50000\r\n",
      "   0.90000   1.00000   1.10000   1.20000   1.30000   1.40000   1.50000\r\n",
      "   0.90000   1.00000   1.10000   1.20000   1.30000   1.40000   1.50000\r\n",
      "   0.90000   1.00000   1.10000   1.20000   1.30000   1.40000   1.50000\r\n",
      "   0.90000   1.00000   1.10000   1.20000   1.30000   1.40000   1.50000\r\n",
      "   0.90000   1.00000   1.10000   1.20000   1.30000   1.40000   1.50000\r\n",
      "   0.90000   1.00000   1.10000   1.20000   1.30000   1.40000   1.50000\r\n",
      "\r\n"
     ]
    },
    {
     "data": {
      "image/png": "[encoded data removed]",
      "text/plain": [
       "<IPython.core.display.Image object>"
      ]
     },
     "metadata": {},
     "output_type": "display_data"
    }
   ],
   "source": [
    "plot_portrait_phase(A,[0 0])"
   ]
  },
  {
   "cell_type": "code",
   "execution_count": 24,
   "metadata": {},
   "outputs": [
    {
     "data": {
      "image/png": "[encoded data removed]",
      "text/plain": [
       "<IPython.core.display.Image object>"
      ]
     },
     "metadata": {},
     "output_type": "display_data"
    }
   ],
   "source": [
    "# Define grid for plotting\n",
    "x1range=-60:1.2:10;\n",
    "x2range=-60:1.2:10;\n",
    "[x1,x2] = meshgrid(x1range, x2range);\n",
    "\n",
    "# Define the system to plot (based on matrix A)\n",
    "x1p = (1/Vc1)*(-(Vmax./(Km.+x1))*x1 - Ld*x1 + Ld*x2 - Lu*x1);\n",
    "x2p = (1/Vc2)*(Ld*x1-Ld*x2);\n",
    "\n",
    "#Normalize values for plotting\n",
    "arrow=sqrt(x1p.^2+x2p.^2);\n",
    "\n",
    "# Vector field plot\n",
    "hold on;\n",
    "quiver(x1,x2,x1p./arrow,x2p./arrow,0.7);\n",
    "\n",
    "# Plot isocline\n",
    "x1_red = -60:1:10;\n",
    "plot(x1_red,(x1_red.*(440731 + 16253.*x1_red))./(16180 *(27 + x1_red)),\"linewidth\",6,\"linestyle\",\"--\")\n",
    "plot(x1_red,x1_red,\"linewidth\",6,\"linestyle\",\"--\")\n",
    "\n",
    "\n",
    "# Plot stationary points\n",
    "plot(0,0, \"*\" ,\"linewidth\",4);\n",
    "plot(-3871/73,-3871/73, \"*\" ,\"linewidth\",4);\n",
    "\n",
    "grid on;\n",
    "axis tight;"
   ]
  },
  {
   "cell_type": "markdown",
   "metadata": {},
   "source": [
    "#### Differential equations solutions (for default parameters)\n",
    "The differential equation can be solved with octave using the symbolic package as follows:"
   ]
  },
  {
   "cell_type": "code",
   "execution_count": 25,
   "metadata": {},
   "outputs": [
    {
     "name": "stdout",
     "output_type": "stream",
     "text": [
      "Vc1 =  14.500\n",
      "Vc2 =  21.200\n",
      "Km =  27\n",
      "Ld =  809\n",
      "Lu =  3.6500\n",
      "Vmax =  95\n",
      "warning: passing floating-point values to sym is dangerous, see \"help sym\"\n",
      "warning: called from\n",
      "    double_to_sym_heuristic at line 50 column 7\n",
      "    sym at line 379 column 13\n",
      "    mtimes at line 65 column 5\n",
      "warning: passing floating-point values to sym is dangerous, see \"help sym\"\n",
      "warning: called from\n",
      "    double_to_sym_heuristic at line 50 column 7\n",
      "    sym at line 379 column 13\n",
      "    mtimes at line 65 column 5\n",
      "warning: passing floating-point values to sym is dangerous, see \"help sym\"\n",
      "warning: called from\n",
      "    double_to_sym_heuristic at line 50 column 7\n",
      "    sym at line 379 column 13\n",
      "    mtimes at line 65 column 5\n",
      "odesys = (sym 2×1 matrix)\n",
      "\n",
      "  ⎡  16253⋅x₁      190⋅x₁      1618⋅x₂⎤\n",
      "  ⎢- ──────── - ──────────── + ───────⎥\n",
      "  ⎢    290      29⋅(x₁ + 27)      29  ⎥\n",
      "  ⎢                                   ⎥\n",
      "  ⎢         4045⋅x₁   4045⋅x₂         ⎥\n",
      "  ⎢         ─────── - ───────         ⎥\n",
      "  ⎣           106       106           ⎦\n",
      "\n",
      "error: Python exception: IndexError: list index out of range\n",
      "    occurred at line 6 of the Python code block:\n",
      "    sol = sp.dsolve(ode, ics=ics2)\n",
      "error: called from\n",
      "    python_cmd at line 178 column 7\n",
      "    dsolve at line 187 column 8\n"
     ]
    }
   ],
   "source": [
    "pkg load symbolic\n",
    "syms x1 x2\n",
    "Vc1 = 14.5 \n",
    "Vc2 = 21.2\n",
    "Km = 27\n",
    "Ld = 809\n",
    "Lu = 3.65\n",
    "Vmax = 95\n",
    "odesys = [(1/Vc1)*(-(Vmax/(Km+x1))*x1 - Ld*x1 + Ld*x2 - Lu*x1); (1/Vc2)*(Ld*x1-Ld*x2)]\n",
    "solutions = dsolve(odesys);"
   ]
  },
  {
   "cell_type": "markdown",
   "metadata": {},
   "source": [
    "### Evaluation\n",
    "We can vary the parameters $L$, $V_{C_1}$, $V_{C_2}$, $L_d$, $L_u$ in order to display the evolution of the alcohol concentration relatively to time.\n",
    "\n",
    "**Structure:**\n",
    "\n",
    " - Dimension : $n=2$, $m=0$ inputs, $p=1$ outputs.\n",
    " - Constraints on input: none\n",
    " - Time: continuous\n",
    " - State space: continuous\n",
    " - Formalism: ODE\n",
    " - The time interval is discrete with $t \\in [0,10]$.\n",
    " \n",
    "The octave function to plot the graph is defined below:"
   ]
  },
  {
   "cell_type": "code",
   "execution_count": 26,
   "metadata": {},
   "outputs": [],
   "source": [
    "function norberg_complete(x1_0, x2_0, delta_Vc1, delta_Vc2, delta_Ld, delta_Lu, delta_Vmax, delta_km, title_, annot)\n",
    "  # delta_vmax +- 25.1 \n",
    "  # delta_km +- 18.9\n",
    "  # delta_Vc1 +- 4.3\n",
    "  # delta_Vc2 +- 4.4\n",
    "  # delta_Ld +- 232\n",
    "  # delta Lu +- +-2.04\n",
    "  Vmax = 95.0 + delta_Vmax;\n",
    "  Km = 27.0 + delta_km;\n",
    "  Vc1 = 14.5 + delta_Vc1\n",
    "  Vc2 = 21.2 + delta_Vc2\n",
    "  Ld = 809 + delta_Ld\n",
    "  Lu = 3.65 + delta_Lu\n",
    "  \n",
    "  ode_sys = @(t,x) odesys = [(1/Vc1)*(-(Vmax/(Km+x(1)))*x(1) - Ld*x(1) + Ld*x(2) - Lu*x(1)); (1/Vc2)*(Ld*x(1)-Ld*x(2))];\n",
    "  [t,x] = ode23(ode_sys, [0,10], [x1_0,x2_0]);\n",
    "  plot(t,x,\"linewidth\",5);\n",
    "  text(10-0.2,x(length(x)), annot);\n",
    "  xlabel(\"time (min)\");\n",
    "  ylabel(\"Alcohol concentration (mg/L)\");\n",
    "  title(title_);\n",
    "endfunction"
   ]
  },
  {
   "cell_type": "code",
   "execution_count": 27,
   "metadata": {},
   "outputs": [
    {
     "name": "stdout",
     "output_type": "stream",
     "text": [
      "Vc1 =  14.500\n",
      "Vc2 =  21.200\n",
      "Ld =  809\n",
      "Lu =  3.6500\n",
      "---\n",
      "Vc1 =  14.500\n",
      "Vc2 =  21.200\n",
      "Ld =  809\n",
      "Lu =  3.6500\n",
      "---\n",
      "Vc1 =  14.500\n",
      "Vc2 =  21.200\n",
      "Ld =  809\n",
      "Lu =  3.6500\n",
      "---\n"
     ]
    },
    {
     "data": {
      "image/png": "[encoded data removed]",
      "text/plain": [
       "<IPython.core.display.Image object>"
      ]
     },
     "metadata": {},
     "output_type": "display_data"
    }
   ],
   "source": [
    "# varying Vmax\n",
    "# Middly alcoholic \n",
    "# Alcohol is equally distributed in the peripheral compartment\n",
    "hold on;\n",
    "for delta = [-25.1,0,25.1]\n",
    "    norberg_complete(\n",
    "      x1_0 = 300,\n",
    "      x2_0 = 300,\n",
    "      delta_Vc1=0,\n",
    "      delta_Vc2=0,\n",
    "      delta_Ld=0,\n",
    "      delta_Lu=0,\n",
    "      delta_Vmax = delta,\n",
    "      delta_km=0,\n",
    "      title_=\"Fig2 : Variation of alcohol concentration for different values of the maximal elimination rate\",\n",
    "      annot=num2str(delta)\n",
    "     )\n",
    "     disp(\"---\");\n",
    "endfor\n",
    "hold off;"
   ]
  },
  {
   "cell_type": "markdown",
   "metadata": {},
   "source": [
    "##### Interpretation\n",
    "As we can observe, the highest is the elimination rate, the faster the concentration of alcohol decreases."
   ]
  },
  {
   "cell_type": "code",
   "execution_count": 28,
   "metadata": {},
   "outputs": [
    {
     "name": "stdout",
     "output_type": "stream",
     "text": [
      "Vc1 =  14.500\n",
      "Vc2 =  21.200\n",
      "Ld =  809\n",
      "Lu =  3.6500\n",
      "---\n",
      "Vc1 =  14.500\n",
      "Vc2 =  21.200\n",
      "Ld =  809\n",
      "Lu =  3.6500\n",
      "---\n",
      "Vc1 =  14.500\n",
      "Vc2 =  21.200\n",
      "Ld =  809\n",
      "Lu =  3.6500\n",
      "---\n"
     ]
    },
    {
     "data": {
      "image/png": "[encoded data removed]",
      "text/plain": [
       "<IPython.core.display.Image object>"
      ]
     },
     "metadata": {},
     "output_type": "display_data"
    }
   ],
   "source": [
    "# varying Km\n",
    "# Highly alcoholic \n",
    "# Alcohol is equally distributed in the peripheral compartment\n",
    "hold on;\n",
    "for delta = [-18.9,0,18.9]\n",
    "    norberg_complete(\n",
    "      x1_0 = 500,\n",
    "      x2_0 = 500,\n",
    "      delta_Vc1=0,\n",
    "      delta_Vc2=0,\n",
    "      delta_Ld=0,\n",
    "      delta_Lu=0,\n",
    "      delta_Vmax = 0,\n",
    "      delta_km=delta,\n",
    "      title_=\"Fig2 : Variation of alcohol concentration for different values of the constant Michaelis-Menten\",\n",
    "      annot=num2str(delta)\n",
    "     )\n",
    "     disp(\"---\");\n",
    "endfor\n",
    "hold off;"
   ]
  },
  {
   "cell_type": "markdown",
   "metadata": {},
   "source": [
    "##### Interpretation\n",
    "The influence of the Michaelis-Menten constant is neglibeable."
   ]
  },
  {
   "cell_type": "code",
   "execution_count": 29,
   "metadata": {},
   "outputs": [
    {
     "name": "stdout",
     "output_type": "stream",
     "text": [
      "Vc1 =  10.200\n",
      "Vc2 =  21.200\n",
      "Ld =  809\n",
      "Lu =  3.6500\n",
      "---\n",
      "Vc1 =  14.500\n",
      "Vc2 =  21.200\n",
      "Ld =  809\n",
      "Lu =  3.6500\n",
      "---\n",
      "Vc1 =  18.800\n",
      "Vc2 =  21.200\n",
      "Ld =  809\n",
      "Lu =  3.6500\n",
      "---\n"
     ]
    },
    {
     "data": {
      "image/png": "[encoded data removed]",
      "text/plain": [
       "<IPython.core.display.Image object>"
      ]
     },
     "metadata": {},
     "output_type": "display_data"
    }
   ],
   "source": [
    "# varying Vc1\n",
    "# Mid-low alcoholic \n",
    "# Alcohol is mainly distributed in the peripheral compartment\n",
    "hold on;\n",
    "for delta = [-4.3,0,4.3]\n",
    "    norberg_complete(\n",
    "      x1_0 = 150,\n",
    "      x2_0 = 200,\n",
    "      delta_Vc1=delta,\n",
    "      delta_Vc2=0,\n",
    "      delta_Ld=0,\n",
    "      delta_Lu=0,\n",
    "      delta_Vmax=0,\n",
    "      delta_km=0,\n",
    "      title_=\"Fig2 : Variation of alcohol concentration for different values of the volume of the central compartment\",\n",
    "      annot=num2str(delta)\n",
    "     )\n",
    "     disp(\"---\");\n",
    "endfor\n",
    "hold off;"
   ]
  },
  {
   "cell_type": "markdown",
   "metadata": {},
   "source": [
    "##### Interpretation\n",
    "If the volume of the central compartment is higher, then alcohol needs more time to be eliminated."
   ]
  },
  {
   "cell_type": "code",
   "execution_count": 30,
   "metadata": {},
   "outputs": [
    {
     "name": "stdout",
     "output_type": "stream",
     "text": [
      "Vc1 =  14.500\n",
      "Vc2 =  16.800\n",
      "Ld =  809\n",
      "Lu =  3.6500\n",
      "---\n",
      "Vc1 =  14.500\n",
      "Vc2 =  21.200\n",
      "Ld =  809\n",
      "Lu =  3.6500\n",
      "---\n",
      "Vc1 =  14.500\n",
      "Vc2 =  25.600\n",
      "Ld =  809\n",
      "Lu =  3.6500\n",
      "---\n"
     ]
    },
    {
     "data": {
      "image/png": "[encoded data removed]",
      "text/plain": [
       "<IPython.core.display.Image object>"
      ]
     },
     "metadata": {},
     "output_type": "display_data"
    }
   ],
   "source": [
    "# varying Vc2\n",
    "# Mid-low alcoholic\n",
    "# Alcohol is mainly distributed in the central compartment\n",
    "hold on;\n",
    "for delta = [-4.4,0,4.4]\n",
    "    norberg_complete(\n",
    "      x1_0 = 200,\n",
    "      x2_0 = 150,\n",
    "      delta_Vc1=0,\n",
    "      delta_Vc2=delta,\n",
    "      delta_Ld=0,\n",
    "      delta_Lu=0,\n",
    "      delta_Vmax=0,\n",
    "      delta_km=0,\n",
    "      title_=\"Fig2 : Variation of alcohol concentration for different values of the volume of the peripheral compartment\",\n",
    "      annot=num2str(delta)\n",
    "     )\n",
    "     disp(\"---\");\n",
    "endfor\n",
    "hold off;"
   ]
  },
  {
   "cell_type": "markdown",
   "metadata": {},
   "source": [
    "##### Interpretation\n",
    "As for the central compartment, if the volume  of the peripheral compartment is greater, then the model shows that more time is needed to eliminate the alcohol."
   ]
  },
  {
   "cell_type": "code",
   "execution_count": 31,
   "metadata": {},
   "outputs": [
    {
     "name": "stdout",
     "output_type": "stream",
     "text": [
      "Vc1 =  14.500\n",
      "Vc2 =  21.200\n",
      "Ld =  809\n",
      "Lu =  3.6500\n",
      "---\n",
      "Vc1 =  14.500\n",
      "Vc2 =  21.200\n",
      "Ld =  809\n",
      "Lu =  3.6500\n",
      "---\n",
      "Vc1 =  14.500\n",
      "Vc2 =  21.200\n",
      "Ld =  809\n",
      "Lu =  3.6500\n",
      "---\n",
      "Vc1 =  14.500\n",
      "Vc2 =  21.200\n",
      "Ld =  809\n",
      "Lu =  3.6500\n",
      "---\n"
     ]
    },
    {
     "data": {
      "image/png": "[encoded data removed]",
      "text/plain": [
       "<IPython.core.display.Image object>"
      ]
     },
     "metadata": {},
     "output_type": "display_data"
    }
   ],
   "source": [
    "# varying x1_0\n",
    "# Low to highly alcoholic\n",
    "hold on;\n",
    "for delta = [100, 200, 300, 400]\n",
    "    norberg_complete(\n",
    "      x1_0 = 100 + delta,\n",
    "      x2_0 = 10,\n",
    "      delta_Vc1=0,\n",
    "      delta_Vc2=0,\n",
    "      delta_Ld=0,\n",
    "      delta_Lu=0,\n",
    "      delta_Vmax=0,\n",
    "      delta_km=0,\n",
    "      title_=\"Fig2 : Variation of alcohol concentration for different values of initial concentration in the central compartment\",\n",
    "      annot=num2str(delta)\n",
    "     )\n",
    "     disp(\"---\");\n",
    "endfor\n",
    "hold off;"
   ]
  },
  {
   "cell_type": "markdown",
   "metadata": {},
   "source": [
    "##### Interpretation\n",
    "As we can observe, if the concentration of alcohol is higher, we need more time to eliminate the alcohol (for the others standard values)."
   ]
  },
  {
   "cell_type": "code",
   "execution_count": null,
   "metadata": {},
   "outputs": [],
   "source": []
  }
 ],
 "metadata": {
  "kernelspec": {
   "display_name": "Octave",
   "language": "octave",
   "name": "octave"
  },
  "language_info": {
   "file_extension": ".m",
   "help_links": [
    {
     "text": "GNU Octave",
     "url": "https://www.gnu.org/software/octave/support.html"
    },
    {
     "text": "Octave Kernel",
     "url": "https://github.com/Calysto/octave_kernel"
    },
    {
     "text": "MetaKernel Magics",
     "url": "https://metakernel.readthedocs.io/en/latest/source/README.html"
    }
   ],
   "mimetype": "text/x-octave",
   "name": "octave",
   "version": "4.2.2"
  },
  "toc": {
   "base_numbering": 1,
   "nav_menu": {},
   "number_sections": true,
   "sideBar": true,
   "skip_h1_title": false,
   "title_cell": "Table of Contents",
   "title_sidebar": "Contents",
   "toc_cell": false,
   "toc_position": {},
   "toc_section_display": true,
   "toc_window_display": false
  }
 },
 "nbformat": 4,
 "nbformat_minor": 2
}
